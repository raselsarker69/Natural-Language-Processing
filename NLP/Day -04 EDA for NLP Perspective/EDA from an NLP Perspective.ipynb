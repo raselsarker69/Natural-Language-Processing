{
 "cells": [
  {
   "cell_type": "markdown",
   "id": "bfdf8051-eae4-406c-8271-e73b0611dbb8",
   "metadata": {},
   "source": [
    "<div style=\"background-color: #f9f9fc; color: #333366; border-radius: 12px; margin: 20px auto; padding: 20px; border: 2px solid #ff4c4c; max-width: 1000px; font-family: Arial, sans-serif; line-height: 1.6;\">\n",
    "  <h2 style=\"text-align: center; color: #333366;\">EDA (Exploratory Data Analysis) from an NLP Perspective</h2>\n",
    "\n",
    "---\n",
    "\n",
    "```\n",
    "⭐ EDA- Exploratory Data Analysis- Sentiment Analysis\n",
    "\n",
    "🔹 Descriptive Statistics - Y \n",
    "🔹 Correlation Analysis \n",
    "🔹 Text Length Distribution/Data Distribution - Y \n",
    "🔹 Word Frequency Analysis - Y \n",
    "🔹 Sentiment Distribution \n",
    "🔹 Word Cloud Visualization \n",
    "🔹 Topic Modeling \n",
    "🔹 Token Distribution \n",
    "🔹 Class Imbalance Analysis - 100: Target - positive - 80 and negative - 20. \n",
    "🔹 Pairwise Plotting. \n",
    "🔹 Dimensionality Reduction. "
   ]
  },
  {
   "cell_type": "code",
   "execution_count": null,
   "id": "9b5154c7-67d9-4481-b217-c5141f621c1c",
   "metadata": {},
   "outputs": [],
   "source": [
    "EDA- Exploratory Data Analysis- Sentiment Analysis\n",
    "\n",
    "বাংলায় এর অর্থ হলো:\n",
    "\n",
    "EDA (এক্সপ্লোরেটরি ডেটা অ্যানালাইসিস): অনুসন্ধানমূলক ডেটা বিশ্লেষণ। অর্থাৎ, ডেটা ভালোভাবে বোঝার জন্য বিভিন্ন পদ্ধতি ব্যবহার করে ডেটা পর্যবেক্ষণ করা।\n",
    "Sentiment Analysis (সেন্টিমেন্ট অ্যানালাইসিস): অনুভূতি বিশ্লেষণ। কোনো লেখার মধ্যে থাকা অনুভূতি (যেমন, ইতিবাচক, নেতিবাচক, নিরপেক্ষ) বের করা।\n",
    "এরপর, লিস্টে উল্লেখিত বিষয়গুলো হলো:\n",
    "\n",
    "Descriptive Statistics - Y : বর্ণনামূলক পরিসংখ্যান। ডেটার গড়, মধ্যমা, পরিমিত ব্যবধান ইত্যাদি বের করা।\n",
    "Correlation Analysis : দুটি চলকের মধ্যে সম্পর্ক বের করা।\n",
    "Text Length Distribution/Data Distribution - Y : পাঠ্যের দৈর্ঘ্যের বিন্যাস বা ডেটার বিন্যাস। ডেটার মানগুলো কীভাবে ছড়ানো আছে, তা দেখা।\n",
    "Word Frequency Analysis - Y : শব্দ কম্পাঙ্ক বিশ্লেষণ। ডেটার মধ্যে কোন শব্দ কতবার আছে, তা বের করা।\n",
    "Sentiment Distribution ডেটার মধ্যে ইতিবাচক, নেতিবাচক এবং নিরপেক্ষ অনুভূতির পরিমাণ দেখা।\n",
    "Word Cloud Visualization শব্দ মেঘ দৃশ্যমানকরণ। শব্দগুলোর কম্পাঙ্ক অনুযায়ী আকার পরিবর্তন করে দেখানো।\n",
    "Topic Modeling ডেটার মধ্যে থাকা বিভিন্ন বিষয় বা টপিক বের করা।\n",
    "Token Distribution টোকেন বিন্যাস। ডেটার মধ্যে টোকেনগুলোর (শব্দ বা শব্দের অংশ) বিন্যাস দেখা।\n",
    "Class Imbalance Analysis - 100: Target - positive - 80 and negative - 20 (ক্লাস ইমব্যালেন্স অ্যানালাইসিস): শ্রেণি ভারসাম্যহীনতা বিশ্লেষণ। ডেটার মধ্যে বিভিন্ন শ্রেণির অনুপাত দেখা (যেমন, ইতিবাচক ও নেতিবাচক অনুভূতির অনুপাত)। এখানে, মোট ডেটা ১০০, যার মধ্যে ইতিবাচক ৮০ এবং নেতিবাচক ২০।\n",
    "Pairwise Plotting:ডেটার বিভিন্ন চলকের মধ্যে সম্পর্ক গ্রাফের মাধ্যমে দেখানো।\n",
    "Dimensionality Reduction: মাত্রা হ্রাসকরণ। ডেটার মাত্রা (ভেরিয়েবলের সংখ্যা) কমানো।"
   ]
  },
  {
   "cell_type": "code",
   "execution_count": 1,
   "id": "f7c46d2c-0597-464e-8e32-6eed93dae289",
   "metadata": {},
   "outputs": [
    {
     "ename": "FileNotFoundError",
     "evalue": "[Errno 2] No such file or directory: 'train.trees.pre.lnk'",
     "output_type": "error",
     "traceback": [
      "\u001b[1;31m---------------------------------------------------------------------------\u001b[0m",
      "\u001b[1;31mFileNotFoundError\u001b[0m                         Traceback (most recent call last)",
      "Cell \u001b[1;32mIn[1], line 11\u001b[0m\n\u001b[0;32m      8\u001b[0m file_path \u001b[38;5;241m=\u001b[39m \u001b[38;5;124m\"\u001b[39m\u001b[38;5;124mtrain.trees.pre.lnk\u001b[39m\u001b[38;5;124m\"\u001b[39m\n\u001b[0;32m     10\u001b[0m \u001b[38;5;66;03m# Read the first line of the file\u001b[39;00m\n\u001b[1;32m---> 11\u001b[0m \u001b[38;5;28;01mwith\u001b[39;00m \u001b[38;5;28;43mopen\u001b[39;49m\u001b[43m(\u001b[49m\u001b[43mfile_path\u001b[49m\u001b[43m,\u001b[49m\u001b[43m \u001b[49m\u001b[38;5;124;43m\"\u001b[39;49m\u001b[38;5;124;43mr\u001b[39;49m\u001b[38;5;124;43m\"\u001b[39;49m\u001b[43m)\u001b[49m \u001b[38;5;28;01mas\u001b[39;00m file:\n\u001b[0;32m     12\u001b[0m     first_line \u001b[38;5;241m=\u001b[39m file\u001b[38;5;241m.\u001b[39mreadline()\u001b[38;5;241m.\u001b[39mstrip()\n\u001b[0;32m     14\u001b[0m \u001b[38;5;66;03m# Parse the syntax tree from the string\u001b[39;00m\n",
      "File \u001b[1;32m~\\AppData\\Local\\Programs\\Python\\Python311\\Lib\\site-packages\\IPython\\core\\interactiveshell.py:324\u001b[0m, in \u001b[0;36m_modified_open\u001b[1;34m(file, *args, **kwargs)\u001b[0m\n\u001b[0;32m    317\u001b[0m \u001b[38;5;28;01mif\u001b[39;00m file \u001b[38;5;129;01min\u001b[39;00m {\u001b[38;5;241m0\u001b[39m, \u001b[38;5;241m1\u001b[39m, \u001b[38;5;241m2\u001b[39m}:\n\u001b[0;32m    318\u001b[0m     \u001b[38;5;28;01mraise\u001b[39;00m \u001b[38;5;167;01mValueError\u001b[39;00m(\n\u001b[0;32m    319\u001b[0m         \u001b[38;5;124mf\u001b[39m\u001b[38;5;124m\"\u001b[39m\u001b[38;5;124mIPython won\u001b[39m\u001b[38;5;124m'\u001b[39m\u001b[38;5;124mt let you open fd=\u001b[39m\u001b[38;5;132;01m{\u001b[39;00mfile\u001b[38;5;132;01m}\u001b[39;00m\u001b[38;5;124m by default \u001b[39m\u001b[38;5;124m\"\u001b[39m\n\u001b[0;32m    320\u001b[0m         \u001b[38;5;124m\"\u001b[39m\u001b[38;5;124mas it is likely to crash IPython. If you know what you are doing, \u001b[39m\u001b[38;5;124m\"\u001b[39m\n\u001b[0;32m    321\u001b[0m         \u001b[38;5;124m\"\u001b[39m\u001b[38;5;124myou can use builtins\u001b[39m\u001b[38;5;124m'\u001b[39m\u001b[38;5;124m open.\u001b[39m\u001b[38;5;124m\"\u001b[39m\n\u001b[0;32m    322\u001b[0m     )\n\u001b[1;32m--> 324\u001b[0m \u001b[38;5;28;01mreturn\u001b[39;00m \u001b[43mio_open\u001b[49m\u001b[43m(\u001b[49m\u001b[43mfile\u001b[49m\u001b[43m,\u001b[49m\u001b[43m \u001b[49m\u001b[38;5;241;43m*\u001b[39;49m\u001b[43margs\u001b[49m\u001b[43m,\u001b[49m\u001b[43m \u001b[49m\u001b[38;5;241;43m*\u001b[39;49m\u001b[38;5;241;43m*\u001b[39;49m\u001b[43mkwargs\u001b[49m\u001b[43m)\u001b[49m\n",
      "\u001b[1;31mFileNotFoundError\u001b[0m: [Errno 2] No such file or directory: 'train.trees.pre.lnk'"
     ]
    }
   ],
   "source": [
    "# PUT YOUR CODE HERE\n",
    "\n",
    "# Import necessary libraries\n",
    "import nltk\n",
    "from nltk.tree import Tree\n",
    "\n",
    "# Path to the syntax tree file\n",
    "file_path = \"train.trees.pre.lnk\"\n",
    "\n",
    "# Read the first line of the file\n",
    "with open(file_path, \"r\") as file:\n",
    "    first_line = file.readline().strip()\n",
    "\n",
    "# Parse the syntax tree from the string\n",
    "first_tree = Tree.fromstring(first_line)\n",
    "\n",
    "# Print the syntax tree in a structured format\n",
    "print(\"Parsed Syntax Tree:\")\n",
    "first_tree.pretty_print()\n"
   ]
  },
  {
   "cell_type": "code",
   "execution_count": null,
   "id": "bfb59a61-dfd3-4b58-a0fd-60d7c94ac081",
   "metadata": {},
   "outputs": [],
   "source": []
  }
 ],
 "metadata": {
  "kernelspec": {
   "display_name": "Python 3 (ipykernel)",
   "language": "python",
   "name": "python3"
  },
  "language_info": {
   "codemirror_mode": {
    "name": "ipython",
    "version": 3
   },
   "file_extension": ".py",
   "mimetype": "text/x-python",
   "name": "python",
   "nbconvert_exporter": "python",
   "pygments_lexer": "ipython3",
   "version": "3.11.8"
  }
 },
 "nbformat": 4,
 "nbformat_minor": 5
}
