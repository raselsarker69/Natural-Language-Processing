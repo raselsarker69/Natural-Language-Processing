{
 "cells": [
  {
   "cell_type": "markdown",
   "id": "e5877deb-e9bb-4ea8-a88f-aefd27911265",
   "metadata": {},
   "source": [
    "## আমাদের চার ধরনের নিউরাল নেটওয়ার্ক আছে\n",
    "1. One to One\n",
    "2. One to Many\n",
    "3. Many to One\n",
    "4. Many to Many"
   ]
  },
  {
   "cell_type": "markdown",
   "id": "69aa00fb-7413-4d97-a681-277ec4e5d131",
   "metadata": {},
   "source": [
    "<div style=\"background-color: #f9f9fc; color: #333366; border-radius: 12px; margin: 20px auto; padding: 20px; border: 2px solid #ff4c4c; max-width: 1000px; font-family: Arial, sans-serif; line-height: 1.6;\">\n",
    "  <h2 style=\"text-align: center; color: #333366;\">🟢 **RNN Type Explanations with Examples:</h2>\n",
    "\n",
    "---\n",
    "## 🟢 **RNN Type Explanations with Examples:**\n",
    "\n",
    "### **One-to-One:**  \n",
    "➡️ **Single input → Single output**  \n",
    "**Examples:**  \n",
    "- Image classification (Input: Image → Output: Label)  \n",
    "- Spam detection (Input: Email text → Output: Spam/Not Spam)  \n",
    "- Medical diagnosis (Input: Patient data → Output: Disease prediction)  \n",
    "\n",
    "---\n",
    "\n",
    "### **One-to-Many:**  \n",
    "➡️ **Single input → Multiple outputs**  \n",
    "**Examples:**  \n",
    "- Image captioning (Input: Image → Output: Caption words)  \n",
    "- Music generation (Input: Single note → Output: Melody)  \n",
    "- Video generation (Input: Single frame → Output: Multiple frames for video)  \n",
    "\n",
    "---\n",
    "\n",
    "### **Many-to-One:**  \n",
    "➡️ **Multiple inputs → Single output**  \n",
    "**Examples:**  \n",
    "- Sentiment analysis (Input: Sentence → Output: Positive/Negative)  \n",
    "- Stock price prediction (Input: Historical prices → Output: Next day's price)  \n",
    "- Disease prediction (Input: Patient health metrics → Output: Disease risk)  \n",
    "\n",
    "---\n",
    "\n",
    "### **Many-to-Many:**  \n",
    "➡️ **Multiple inputs → Multiple outputs**  \n",
    "**Examples:**  \n",
    "- Machine translation (Input: English sentence → Output: French sentence)  \n",
    "- Speech-to-text (Input: Audio → Output: Transcription)  \n",
    "- Video classification (Input: Frames → Output: Action labels for each frame)  "
   ]
  },
  {
   "cell_type": "markdown",
   "id": "6c41e70f-260f-4eb0-8646-25ca8614c5db",
   "metadata": {},
   "source": [
    "<div style=\"background-color: #f9f9fc; color: #333366; border-radius: 12px; margin: 20px auto; padding: 20px; border: 2px solid #ff4c4c; max-width: 1000px; font-family: Arial, sans-serif; line-height: 1.6;\">\n",
    "  <h2 style=\"text-align: center; color: #333366;\">Comparison of RNN Types.</h2>\n",
    "\n",
    "--- \n",
    "\n",
    "```\n",
    "\n",
    "| **Type**                   | **Input Length** | **Output Length**          | **Used For**                        |\n",
    "|----------------------------|------------------|----------------------------|-------------------------------------|\n",
    "| One-to-One (Vanilla RNN)   | 1                | 1                          | Classification                      |\n",
    "| One-to-Many                | 1                | Multiple                   | Music/Text Generation                |\n",
    "| Many-to-One                | Multiple         | 1                          | Sentiment Analysis                  |\n",
    "| Many-to-Many (Sync)        | Multiple         | Multiple (same length)     | POS Tagging, NER                    |\n",
    "| Many-to-Many (Async)       | Multiple         | Multiple (different length)| Machine Translation                 |\n",
    "| Bidirectional RNN          | Multiple         | Multiple                   | NER, Speech Recognition             |\n",
    "| Stacked RNN                | Multiple         | Multiple                   | Text Classification                 |\n",
    "| LSTM                       | Multiple         | Multiple                   | Machine Translation, Long Sequences |\n",
    "| GRU                        | Multiple         | Multiple                   | Faster Alternative to LSTM          |\n"
   ]
  },
  {
   "cell_type": "code",
   "execution_count": null,
   "id": "12bd72b8-a6b8-473e-b925-78c96d282b34",
   "metadata": {},
   "outputs": [],
   "source": []
  }
 ],
 "metadata": {
  "kernelspec": {
   "display_name": "Python 3 (ipykernel)",
   "language": "python",
   "name": "python3"
  },
  "language_info": {
   "codemirror_mode": {
    "name": "ipython",
    "version": 3
   },
   "file_extension": ".py",
   "mimetype": "text/x-python",
   "name": "python",
   "nbconvert_exporter": "python",
   "pygments_lexer": "ipython3",
   "version": "3.11.8"
  }
 },
 "nbformat": 4,
 "nbformat_minor": 5
}
