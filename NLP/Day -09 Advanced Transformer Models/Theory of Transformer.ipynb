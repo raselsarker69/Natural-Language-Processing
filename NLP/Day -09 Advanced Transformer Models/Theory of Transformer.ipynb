{
 "cells": [
  {
   "cell_type": "markdown",
   "id": "e8d973ac-edc9-4bb2-be2b-10e9dfe154fb",
   "metadata": {},
   "source": [
    "## 🌟 What is a transformer?\n",
    "\n",
    "- 🔹ট্রান্সফরমার (Transformer) মডেল হলো Deep Learning-এর একটি সর্বাধিক কার্যকর ও শক্তিশালী and একটি গুরুত্বপূর্ণ আর্কিটেকচার, যা Natural Language Processing (NLP)-এ ব্যাপকভাবে ব্যবহৃত হয়। Google 2017 সালে \"Attention is All You Need\" পেপারে প্রথম ট্রান্সফরমার মডেল উপস্থাপন করে।📌\n",
    "\n",
    "\n",
    "- ✅ প্রধান বৈশিষ্ট্য:\n",
    "- ✔️ Self-Attention Mechanism – দীর্ঘদূর সম্পর্ক বিশ্লেষণে কার্যকর।\n",
    "- ✔️ Parallel Processing – আগের RNN/LSTM-এর চেয়ে দ্রুত।\n",
    "- ✔️ Highly Scalable – GPT, BERT, T5 ইত্যাদি মডেলে ব্যবহৃত হয়।\n",
    "\n",
    "---\n",
    "\n",
    "## 🔹💡 Step 1: NLP-তে ট্রান্সফরমার কেন প্রয়োজন?\n",
    "💡 পুরোনো পদ্ধতিগুলোর সীমাবদ্ধতা ট্রান্সফরমার মডেল আসার আগে, NLP টাস্ক-এ বেশ কিছু সমস্যা ছিল:\n",
    "#### 1. RNN (Recurrent Neural Networks):\n",
    "- ক্রমান্বয়ে তথ্য প্রসেস করায় Parallel Processing সম্ভব নয়।\n",
    "- লম্বা টেক্সট হলে Long-Term Dependency সমস্যা হয়।\n",
    "#### 2. LSTM (Long Short-Term Memory):\n",
    "- লম্বা বাক্যে Gradient Vanishing Problem দেখা দেয়।\n",
    "- বড় ডেটা প্রসেসিং ধীরগতি সম্পন্ন।\n",
    "\n",
    "#### 🔸 ১. RNN (Recurrent Neural Network) ও LSTM-এর সীমাবদ্ধতা\n",
    "- 🔴 ধীরগতির প্রসেসিং – RNN একবারে একটি শব্দ প্রক্রিয়া করে, ফলে প্রশিক্ষণ ধীর হয়।\n",
    "- 🔴 Long-Term Dependency সমস্যা – বড় বাক্যের দীর্ঘ দূরত্বের শব্দগুলোর মধ্যে সংযোগ দুর্বল হয়ে যায়।\n",
    "- 🔴 Parallelization করা সম্ভব নয় – RNN সিরিয়াল প্রসেসিং করে, তাই GPU-তে কাজ কম কার্যকর।\n",
    "\n",
    "✅ ট্রান্সফরমার মডেল এই সমস্যাগুলো কাটিয়ে তুলতে Self-Attention এবং Parallel Processing ব্যবহার করে।\n",
    "✅ সমাধান: ট্রান্সফরমার মডেল আসে Self-Attention Mechanism ব্যবহার করে, যা একসঙ্গে সব শব্দের মধ্যে সংযোগ তৈরি করতে পারে।\n",
    "\n",
    "---\n",
    "\n"
   ]
  },
  {
   "cell_type": "code",
   "execution_count": null,
   "id": "fdd75d30-d2c2-4277-8b25-4e75bb8f71c7",
   "metadata": {},
   "outputs": [],
   "source": []
  }
 ],
 "metadata": {
  "kernelspec": {
   "display_name": "Python 3 (ipykernel)",
   "language": "python",
   "name": "python3"
  },
  "language_info": {
   "codemirror_mode": {
    "name": "ipython",
    "version": 3
   },
   "file_extension": ".py",
   "mimetype": "text/x-python",
   "name": "python",
   "nbconvert_exporter": "python",
   "pygments_lexer": "ipython3",
   "version": "3.11.8"
  }
 },
 "nbformat": 4,
 "nbformat_minor": 5
}
