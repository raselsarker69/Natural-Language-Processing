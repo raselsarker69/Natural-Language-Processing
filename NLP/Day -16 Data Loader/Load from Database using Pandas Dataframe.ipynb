{
 "cells": [
  {
   "cell_type": "markdown",
   "id": "8c75d35b-0017-4429-9d24-fe464fabf994",
   "metadata": {},
   "source": [
    "<div style=\"background-color: #f9f9fc; color: #333366; border-radius: 12px; margin: 20px auto; padding: 20px; border: 2px solid #ff4c4c; max-width: 1000px; font-family: Arial, sans-serif; line-height: 1.6;\">\n",
    "  <h2 style=\"text-align: center; color: #333366;\">Load from Database using Pandas Dataframe</h2>\n",
    "    \n",
    "---\n",
    "    \n",
    "```\n",
    "\n",
    "Python-এ Unpacking Symbol (**)\n",
    "Python-এ ** (double asterisk) unpacking operator হিসেবে কাজ করে, যা dictionary থেকে কী-ভ্যালু পেয়ার আলাদা করে ফাংশনের আর্গুমেন্ট হিসেবে পাস করতে সাহায্য করে। এটি মূলত ফাংশনে কীওয়ার্ড আর্গুমেন্ট (keyword arguments) পাঠাতে ব্যবহৃত হয়।\n",
    "\n",
    "১. ** How does operator Work?\n",
    "** অপারেটর একটি dictionary-এর key-value গুলো আলাদা করে ফাংশনে পাস করে দেয়।\n",
    "এটি তখনই ব্যবহার করা হয় যখন কোনো ফাংশন multiple keyword arguments (kwargs) গ্রহণ করে।\n",
    "আমরা **db_config ব্যবহার করে dictionary-এর ভ্যালুগুলো আলাদা আলাদা আর্গুমেন্ট হিসেবে ফাংশনে পাঠাতে পারি:"
   ]
  },
  {
   "attachments": {
    "87c6d220-4cab-4788-9a5d-3e618dcf1e51.png": {
     "image/png": "[encoded data removed]"
    }
   },
   "cell_type": "markdown",
   "id": "e177d7fe-f6a9-46c7-b862-02afeccdbfe6",
   "metadata": {},
   "source": [
    "# ![image.png](attachment:87c6d220-4cab-4788-9a5d-3e618dcf1e51.png)"
   ]
  },
  {
   "cell_type": "code",
   "execution_count": 1,
   "id": "8da78e9f-e4d9-4b6c-89b0-8b891957b8d4",
   "metadata": {},
   "outputs": [
    {
     "name": "stdout",
     "output_type": "stream",
     "text": [
      "Requirement already satisfied: mysql-connector-python in c:\\users\\user\\appdata\\local\\programs\\python\\python311\\lib\\site-packages (8.2.0)\n",
      "Requirement already satisfied: protobuf<=4.21.12,>=4.21.1 in c:\\users\\user\\appdata\\local\\programs\\python\\python311\\lib\\site-packages (from mysql-connector-python) (4.21.12)\n"
     ]
    },
    {
     "name": "stderr",
     "output_type": "stream",
     "text": [
      "\n",
      "[notice] A new release of pip is available: 25.0 -> 25.0.1\n",
      "[notice] To update, run: python.exe -m pip install --upgrade pip\n"
     ]
    }
   ],
   "source": [
    "!pip install mysql-connector-python"
   ]
  },
  {
   "cell_type": "code",
   "execution_count": null,
   "id": "a9c20edd-5aa3-4cd0-92e0-31775487a253",
   "metadata": {},
   "outputs": [],
   "source": [
    "import pandas as pd\n",
    "import mysql.connector"
   ]
  },
  {
   "cell_type": "code",
   "execution_count": null,
   "id": "8be1dcbe-d9c2-4a47-9d5d-1a257b7cd2e3",
   "metadata": {},
   "outputs": [],
   "source": [
    "db_config = {\n",
    "    'user': 'root',\n",
    "    'password': '',\n",
    "    'host': 'localhost',\n",
    "    'database': 'nlp_dataload'\n",
    "}"
   ]
  },
  {
   "cell_type": "code",
   "execution_count": null,
   "id": "77e3768b-f14c-4580-9b27-9378f42ea1f8",
   "metadata": {},
   "outputs": [],
   "source": [
    "# Using unpacking symbol (**) to pass dictionary values\n",
    "connection = mysql.connector.connect(**db_config)    # MySQL Connection korlam"
   ]
  },
  {
   "cell_type": "code",
   "execution_count": null,
   "id": "d7e89846-887e-4c1b-8727-9fa6bbb3b11d",
   "metadata": {},
   "outputs": [],
   "source": [
    "# Alternative way: passing dictionary values explicitly\n",
    "#connection = mysql.connector.connect(user=db_config['user'], password=db_config['password'])"
   ]
  },
  {
   "cell_type": "code",
   "execution_count": null,
   "id": "263e5b5d-05fb-44ca-9516-7a4d79602b42",
   "metadata": {},
   "outputs": [],
   "source": [
    "# SQL Query\n",
    "query = \"SELECT * FROM practice\""
   ]
  },
  {
   "cell_type": "code",
   "execution_count": null,
   "id": "6ca2d1f1-1792-45bb-a43b-809c62265d29",
   "metadata": {},
   "outputs": [],
   "source": [
    "# DataFrame-a data load.\n",
    "df = pd.read_sql(query, con=connection)"
   ]
  },
  {
   "cell_type": "code",
   "execution_count": null,
   "id": "fc569ef6-d890-43e5-8fe7-ec10dcff021e",
   "metadata": {},
   "outputs": [],
   "source": [
    "print(df.head())"
   ]
  },
  {
   "cell_type": "code",
   "execution_count": null,
   "id": "91276620-f977-4665-b33f-a85c788e2e18",
   "metadata": {},
   "outputs": [],
   "source": []
  }
 ],
 "metadata": {
  "kernelspec": {
   "display_name": "Python 3 (ipykernel)",
   "language": "python",
   "name": "python3"
  },
  "language_info": {
   "codemirror_mode": {
    "name": "ipython",
    "version": 3
   },
   "file_extension": ".py",
   "mimetype": "text/x-python",
   "name": "python",
   "nbconvert_exporter": "python",
   "pygments_lexer": "ipython3",
   "version": "3.11.8"
  }
 },
 "nbformat": 4,
 "nbformat_minor": 5
}
