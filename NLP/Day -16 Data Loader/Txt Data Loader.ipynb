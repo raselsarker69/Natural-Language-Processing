{
 "cells": [
  {
   "cell_type": "markdown",
   "id": "1e5835a5-a001-4fec-934d-f9902398abf2",
   "metadata": {},
   "source": [
    "<div style=\"background-color: #f9f9fc; color: #333366; border-radius: 12px; margin: 20px auto; padding: 20px; border: 2px solid #ff4c4c; max-width: 1000px; font-family: Arial, sans-serif; line-height: 1.6;\">\n",
    "  <h2 style=\"text-align: center; color: #333366;\">Txt Data Loader.</h2>"
   ]
  },
  {
   "cell_type": "code",
   "execution_count": 1,
   "id": "66018c2e-866e-4abf-ad7b-98665c46cfd7",
   "metadata": {},
   "outputs": [],
   "source": [
    "import pandas as pd\n",
    "import codecs"
   ]
  },
  {
   "cell_type": "code",
   "execution_count": 4,
   "id": "46fe4fe5-52ab-4168-8fcf-4013ad946fe3",
   "metadata": {},
   "outputs": [
    {
     "name": "stdout",
     "output_type": "stream",
     "text": [
      "Skipping invalid line: Page 1:\n",
      "Skipping invalid line: ২০১৮\n",
      "Skipping invalid line: \n",
      "Skipping invalid line: ভাষা ত\n",
      "Skipping invalid line: \n",
      "Skipping invalid line: সাধু ও চলিত রীতির পার্থক্য\n",
      "Skipping invalid line: ১. সাধু রীতি\n",
      "Skipping invalid line: (ক) বাঙলা লেখ্য সাধু রীতি সুনির্ধারিত ব্যাকরণের নিয়ম অনুসরণ করে চলে এবং এর পদবিন্যাস\n",
      "Skipping invalid line: সুনিয়ন্ত্রত ও সুনির্দিষ্ট ।\n",
      "Skipping invalid line: (খ) এ রীতি গুরুগন্তীর ও তৎসম শব্দবহুল।\n",
      "Skipping invalid line: (গ) সাধু রীতি নাটকের সংলাপ ও বন্তৃতার অনুপযোগী।\n",
      "Skipping invalid line: (ঘ) এ রীতিতে সর্বনাম ও ক্িয়াপদ এক বিশেষ গঠনপদ্ধতি মেনে চলে।\n",
      "Skipping invalid line: ২. চলিত রীতি\n",
      "Skipping invalid line: (ক) চলিত রীতি পরিবর্তনশীল। একশ বছর আগে যে চলিত রীতি সে যুগের শিষ্ট ও তদ্জনের কথিত\n",
      "Skipping invalid line: ভাষা বা মুখের বুলি হিসেবে প্রচলিত ছিল, কালের প্রবাহে বর্তমানে তা অনেকটা পরিবর্তিত রূপ লাভ\n",
      "Skipping invalid line: করেছে।\n",
      "Skipping invalid line: (খ) এ রীতি তত্তব শব্দবহুল।\n",
      "Skipping invalid line: \n",
      "Skipping invalid line: (গ) চলিত রীতি সংক্ষিপ্ত ও সহজবোধ্য এবং বন্তৃতা, আলাপ-আলোচনা ও নাট্যসলাপের জন্য বেশি\n",
      "Skipping invalid line: উপযোগী।\n",
      "Skipping invalid line: \n",
      "Skipping invalid line: (ঘ) সাধু রীতিতে ব্যবহৃত সর্বনাম ও ক্রিয়াপদ চলিত রীতিতে পরিবর্তিত ও সহজতর রূপ লাভ করে। বহু\n",
      "Skipping invalid line: বিশেষ্য ও বিশেষণের ক্ষেত্রেও এমনটি ঘটে।\n",
      "Skipping invalid line: \n",
      "Skipping invalid line: ৩. আঞ্চলিক কথ্য রীতি\n",
      "Skipping invalid line: সব ভাষারই আঞ্চলিক রূপের বৈচিত্র্য থাকে, বাংলা ভাষারও তা আছে। বিভিন্ন অঞ্চলে কথিত রীতির বিভিননতা\n",
      "Skipping invalid line: লক্ষিত হয়; আবার কোথাও কোথাও কারো কারো উচ্চারণে বিভিন্ন অঞ্চলের ভাষার মিশ্রণও লক্ষ্য করা যায়।\n",
      "Skipping invalid line: সাধু, চলিত ও কথ্য রীতির উদাহরণ\n",
      "Skipping invalid line: ক. সাধু রীতি\n",
      "Skipping invalid line: পরদিন প্রাতে হেডমাস্টার সাহেবের প্রস্তুত লিস্ট অনুসারে যে তিনজন শিক্ষক সাহেবের সহিত সাক্ষাৎ করিবার\n",
      "Skipping invalid line: \n",
      "Skipping invalid line: অনুমতি পাইয়াছিলেন, তাহারা আটটার পূর্বেই ডাক-বাব্জায় উপস্থিত হইলেন। একটু পরে আবদুল্লাহ আসিয়া\n",
      "Skipping invalid line: হাজির হইল। তাহাকে দেখিয়া একজন শিক্ষক জিজ্ঞাসা করিলেন আপনি যে! আপনার নাম তো হেডমাস্টার\n",
      "Skipping invalid line: \n",
      "Skipping invalid line: লিস্টে দেন নাই।\n",
      "Skipping invalid line: _কাজী ইমদাদুল হক\n",
      "Skipping invalid line: \n",
      "Skipping invalid line: খ. চলিত রীতি\n",
      "Skipping invalid line: \n",
      "Skipping invalid line: পুল পেরিয়ে সামনে একটা বাশ বাগান পড়ল। তারি মধ্য দিয়ে রাস্তা। মচমচ করে শুকনো বাশ পাতার রাশ ও\n",
      "Skipping invalid line: বাশের খোসা জুতোর নিচে ভেঙে যেতে লাগল। পাশে একটা ফাঁকা জায়গায় বুনো গাছপালা লতা ঝোপের ঘন\n",
      "Skipping invalid line: সমাবেশ। সমস্ত ঝোপটার মাথা জুড়ে সাদা সাদা তুলোর মতো রাধালতার ফুল ফুটে রয়েছে।\n",
      "Skipping invalid line: \n",
      "Skipping invalid line: -বিভৃতিতূষণবন্দপা্যায়\n",
      "Skipping invalid line: \n",
      "Skipping invalid line: \n"
     ]
    }
   ],
   "source": [
    "import codecs\n",
    "\n",
    "input_file = 'bangla.txt'\n",
    "\n",
    "# ফাইলটি UTF-8 এনকোডিং-এ পড়া\n",
    "with codecs.open(input_file, 'r', encoding='utf-8') as fin:\n",
    "    for row in fin:\n",
    "        try:\n",
    "            # লাইনের ট্যাব দিয়ে ভাগ করা\n",
    "            label, x = row.strip().split('\\t')\n",
    "            print(f\"Label: {label}, Value: {x}\")\n",
    "        except ValueError:\n",
    "            # যদি কোনো লাইন দুইটি অংশে ভাগ না হয়, তখন এটি প্রিন্ট করা হবে\n",
    "            print(f\"Skipping invalid line: {row.strip()}\")"
   ]
  },
  {
   "cell_type": "code",
   "execution_count": null,
   "id": "06fc3f93-0179-4160-ad48-eec88d405302",
   "metadata": {},
   "outputs": [],
   "source": []
  },
  {
   "cell_type": "code",
   "execution_count": null,
   "id": "7e7f97de-29ae-4cc5-82d3-2bcad0bca594",
   "metadata": {},
   "outputs": [],
   "source": []
  }
 ],
 "metadata": {
  "kernelspec": {
   "display_name": "Python 3 (ipykernel)",
   "language": "python",
   "name": "python3"
  },
  "language_info": {
   "codemirror_mode": {
    "name": "ipython",
    "version": 3
   },
   "file_extension": ".py",
   "mimetype": "text/x-python",
   "name": "python",
   "nbconvert_exporter": "python",
   "pygments_lexer": "ipython3",
   "version": "3.11.8"
  }
 },
 "nbformat": 4,
 "nbformat_minor": 5
}
