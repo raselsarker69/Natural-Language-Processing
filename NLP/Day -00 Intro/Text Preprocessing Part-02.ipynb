{
 "cells": [
  {
   "cell_type": "markdown",
   "id": "8a811566-4839-4240-a156-eadebabc8d2d",
   "metadata": {},
   "source": [
    "<div style=\"background-color: #f9f9fc; color: #333366; border-radius: 12px; margin: 20px auto; padding: 20px; border: 2px solid #ff4c4c; max-width: 1000px; font-family: Arial, sans-serif; line-height: 1.6;\">\n",
    "  <h2 style=\"text-align: center; color: #333366;\">🔍 Text Preprocessing in NLP Pipeline</h2>\n",
    "\n",
    "---\n",
    "\n",
    "## **1. Introduction**\n",
    "   - Overview of text preprocessing and its importance in NLP.\n",
    "\n",
    "## **2. Preprocessing Techniques**\n",
    "   - **Lowercasing**\n",
    "   - **Remove HTML Tags**\n",
    "   - **Remove URLs**\n",
    "   - **Remove Punctuation**\n",
    "   - **Chat Word Treatment** (Handling informal or abbreviated words)\n",
    "   - **Spelling Correction**\n",
    "   - **Removing Stop Words**\n",
    "   - **Handling Emojis**\n",
    "   - **Tokenization** (Splitting text into words/sentences)\n",
    "   - **Stemming** (Reducing words to their root form)\n",
    "   - **Lemmatization** (Finding the base form of words)\n",
    "\n",
    "## **3. Assignment**\n",
    "   - Practical implementation of text preprocessing steps."
   ]
  },
  {
   "cell_type": "markdown",
   "id": "f769a81b-70a5-4fc0-b0b4-a2cd9f58afe4",
   "metadata": {},
   "source": [
    "<div style=\"background-color: #f9f9fc; color: #333366; border-radius: 12px; margin: 20px auto; padding: 20px; border: 2px solid #ff4c4c; max-width: 1000px; font-family: Arial, sans-serif; line-height: 1.6;\">\n",
    "  <h2 style=\"text-align: center; color: #333366;\">Introduction to NLP Data Processing</h2>\n",
    "\n",
    "---\n",
    "\n",
    "## **1. Data Acquisition**\n",
    "   - **Sources of Data:**\n",
    "     - **Web Scraping**\n",
    "     - **APIs**\n",
    "\n",
    "## **2. Dataset Preparation**\n",
    "   - Acquired data is processed for NLP tasks.\n",
    "\n",
    "## **3. Text Preprocessing**\n",
    "   - **Basic Preprocessing:**\n",
    "     - Lowercasing, punctuation removal, stop-word removal, etc.\n",
    "   - **Advanced Preprocessing:**\n",
    "     - **POS Tagging** (Identifying parts of speech)\n",
    "     - **Chunking** (Grouping words into meaningful phrases)\n",
    "     - **Parsing** (Understanding sentence structure)\n",
    "     - **Coreference Resolution** (Handling pronoun references)\n",
    "\n",
    "This markdown structure ensures clarity and a logical flow of information. Let me know if you need any modifications! 🚀\n"
   ]
  },
  {
   "cell_type": "markdown",
   "id": "89d3c9a6-8fd5-483c-8581-1b3e6989b1df",
   "metadata": {},
   "source": [
    "### HTML Tag remove."
   ]
  },
  {
   "cell_type": "code",
   "execution_count": 2,
   "id": "ccaf25c5-eb71-4032-ba55-a3baf57b2aa5",
   "metadata": {},
   "outputs": [],
   "source": [
    "import re\n",
    "def remove_html_tags(text):\n",
    "    pattern = re.compile('<.*?>')\n",
    "    return pattern.sub(f'', text)"
   ]
  },
  {
   "cell_type": "code",
   "execution_count": 3,
   "id": "2ce770f6-2b47-412d-a6b3-8ec531c2a4f8",
   "metadata": {},
   "outputs": [],
   "source": [
    "text = \"<html> <body> <p>Movie 1</p> <p>Actor - Aamir Khan</p> <p>Click here to <a href='http://google.com'>download</a></p> </body> </html>\""
   ]
  },
  {
   "cell_type": "code",
   "execution_count": 4,
   "id": "93da14ea-ab0a-4cb7-83c4-5da185974a86",
   "metadata": {},
   "outputs": [
    {
     "data": {
      "text/plain": [
       "'  Movie 1 Actor - Aamir Khan Click here to download  '"
      ]
     },
     "execution_count": 4,
     "metadata": {},
     "output_type": "execute_result"
    }
   ],
   "source": [
    "remove_html_tags(text)"
   ]
  },
  {
   "cell_type": "markdown",
   "id": "000dc7b0-5c42-4bd9-aeb1-ca326a539cf7",
   "metadata": {},
   "source": [
    "### Remove URLs."
   ]
  },
  {
   "cell_type": "code",
   "execution_count": 5,
   "id": "1b962c24-bbb4-4f66-a164-2f483174ab7e",
   "metadata": {},
   "outputs": [],
   "source": [
    "import re\n",
    "\n",
    "def remove_url(text):\n",
    "    \"\"\"Removes URLs from the input text.\"\"\"\n",
    "    pattern = re.compile(r'https?://\\S+|www\\.\\S+')\n",
    "    return pattern.sub(r'', text)"
   ]
  },
  {
   "cell_type": "code",
   "execution_count": 6,
   "id": "a91514d3-bc21-4b93-a87c-b0b1a06e215d",
   "metadata": {},
   "outputs": [],
   "source": [
    "# Sample texts\n",
    "text1 = 'Check out my notebook https://www.kaggle.com/campusx/notebook8223fc1abb'\n",
    "text2 = 'Check out my notebook http://www.kaggle.com/campusx/notebook8223fc1abb'\n",
    "text3 = 'Google search here www.google.com'\n",
    "text4 = 'For notebook click https://www.kaggle.com/campusx/notebook8223fc1abb to search check www.google.com'"
   ]
  },
  {
   "cell_type": "code",
   "execution_count": 7,
   "id": "83968316-573a-4727-9d74-1fb2ed762cd6",
   "metadata": {},
   "outputs": [
    {
     "name": "stdout",
     "output_type": "stream",
     "text": [
      "Check out my notebook \n"
     ]
    }
   ],
   "source": [
    "# Removing URLs\n",
    "cleaned_text = remove_url(text2)\n",
    "print(cleaned_text)"
   ]
  },
  {
   "cell_type": "markdown",
   "id": "1fd940c4-aa31-4a51-888e-f5b735801c8b",
   "metadata": {},
   "source": [
    "### Remove Punctuations"
   ]
  },
  {
   "cell_type": "code",
   "execution_count": 11,
   "id": "442bd648-53c7-4d37-a8b3-6b732ff7b76b",
   "metadata": {},
   "outputs": [
    {
     "data": {
      "text/plain": [
       "'!\"#$%&\\'()*+,-./:;<=>?@[\\\\]^_`{|}~'"
      ]
     },
     "execution_count": 11,
     "metadata": {},
     "output_type": "execute_result"
    }
   ],
   "source": [
    "import string, time\n",
    "string.punctuation"
   ]
  },
  {
   "cell_type": "code",
   "execution_count": 13,
   "id": "3cee24e3-31c8-4c70-a964-7babce3896bf",
   "metadata": {},
   "outputs": [],
   "source": [
    "# Define punctuation characters\n",
    "exclude = string.punctuation"
   ]
  },
  {
   "cell_type": "code",
   "execution_count": 14,
   "id": "bef79486-6d9c-4e12-888a-6bcaf0b2479b",
   "metadata": {},
   "outputs": [],
   "source": [
    "def remove_punc(text):\n",
    "    \"\"\"Removes punctuation from the input text.\"\"\"\n",
    "    for char in exclude:\n",
    "        text = text.replace(char, '')  # Replace punctuation with an empty string\n",
    "    return text"
   ]
  },
  {
   "cell_type": "code",
   "execution_count": 15,
   "id": "5e8d33b6-a943-43cd-bb8b-2db19b0a2ad1",
   "metadata": {},
   "outputs": [
    {
     "name": "stdout",
     "output_type": "stream",
     "text": [
      "String With Punctuation\n"
     ]
    }
   ],
   "source": [
    "# Example\n",
    "text = \"String. With, Punctuation?\""
   ]
  },
  {
   "cell_type": "code",
   "execution_count": 16,
   "id": "a568b9c2-b1f2-4ae2-bed0-5aea747d8ac2",
   "metadata": {},
   "outputs": [
    {
     "name": "stdout",
     "output_type": "stream",
     "text": [
      "String With Punctuation\n"
     ]
    }
   ],
   "source": [
    "cleaned_text = remove_punc(text)\n",
    "print(cleaned_text)"
   ]
  },
  {
   "cell_type": "code",
   "execution_count": 18,
   "id": "8180d948-7a26-45e3-b969-1260c3431dc3",
   "metadata": {},
   "outputs": [
    {
     "name": "stdout",
     "output_type": "stream",
     "text": [
      "String With Punctuation\n",
      "Execution Time: 0.000000 seconds\n"
     ]
    }
   ],
   "source": [
    "import time\n",
    "\n",
    "start = time.time()  # Call time.time() correctly\n",
    "print(remove_punc(text))  # Call the function to remove punctuation\n",
    "time1 = time.time() - start  # Call time.time() again properly\n",
    "\n",
    "print(f\"Execution Time: {time1:.6f} seconds\")"
   ]
  },
  {
   "cell_type": "code",
   "execution_count": 8,
   "id": "80fa6b8f-5345-47b6-868f-d1be7fd8fe1e",
   "metadata": {},
   "outputs": [],
   "source": [
    "import re\n",
    "\n",
    "def remove_punctuation(text):\n",
    "    \"\"\"Removes punctuation from the input text.\"\"\"\n",
    "    pattern = re.compile(r'[!\"#$%&\\'()*+,\\-./:;<=>?@\\[\\\\\\]^_`{|}~]')\n",
    "    return pattern.sub(r'', text)"
   ]
  },
  {
   "cell_type": "code",
   "execution_count": 9,
   "id": "d7399c47-20fd-4365-abcb-627be702c8b5",
   "metadata": {},
   "outputs": [],
   "source": [
    "# Example usage\n",
    "text = \"Hello, World! This is a test: does it remove punctuation?\""
   ]
  },
  {
   "cell_type": "code",
   "execution_count": 10,
   "id": "da555c49-d752-4517-aea8-9ea2e21074d2",
   "metadata": {},
   "outputs": [
    {
     "name": "stdout",
     "output_type": "stream",
     "text": [
      "Hello World This is a test does it remove punctuation\n"
     ]
    }
   ],
   "source": [
    "cleaned_text = remove_punctuation(text)\n",
    "print(cleaned_text)"
   ]
  },
  {
   "cell_type": "markdown",
   "id": "b796cd77-8fbf-4664-979f-a58cc22f7cf3",
   "metadata": {},
   "source": [
    "### Chat abbreviations"
   ]
  },
  {
   "cell_type": "code",
   "execution_count": 20,
   "id": "83764861-ea4a-4a23-9c6a-f75c1189d272",
   "metadata": {},
   "outputs": [],
   "source": [
    "def chat_conversion(text):\n",
    "    \"\"\"Replaces common chat abbreviations with their full forms.\"\"\"\n",
    "    chat_words = {\n",
    "        \"IMHO\": \"In My Honest/Humble Opinion\",\n",
    "        \"FYI\": \"For Your Information\",\n",
    "        \"BRB\": \"Be Right Back\",\n",
    "        \"LOL\": \"Laugh Out Loud\",\n",
    "        \"OMG\": \"Oh My God\",\n",
    "        \"TTYL\": \"Talk To You Later\"\n",
    "    }\n",
    "    \n",
    "    new_text = []\n",
    "    for w in text.split():\n",
    "        if w.upper() in chat_words:  # Convert to uppercase to match keys\n",
    "            new_text.append(chat_words[w.upper()])  # Replace with full form\n",
    "        else:\n",
    "            new_text.append(w)  # Keep original word if not found\n",
    "\n",
    "    return \" \".join(new_text)"
   ]
  },
  {
   "cell_type": "code",
   "execution_count": 21,
   "id": "0a59f892-f47c-4c3b-a4a6-b9ed6ed120b6",
   "metadata": {},
   "outputs": [
    {
     "name": "stdout",
     "output_type": "stream",
     "text": [
      "In My Honest/Humble Opinion he is the best\n"
     ]
    }
   ],
   "source": [
    "print(chat_conversion('IMHO he is the best'))   #Output:'In My Honest/Humble Opinion he is the best'"
   ]
  },
  {
   "cell_type": "code",
   "execution_count": 22,
   "id": "b477d23b-dd11-4394-86ba-9643cbb6de8a",
   "metadata": {},
   "outputs": [
    {
     "name": "stdout",
     "output_type": "stream",
     "text": [
      "For Your Information delhi is the capital of india\n"
     ]
    }
   ],
   "source": [
    "print(chat_conversion('FYI delhi is the capital of india'))  #Output:'For Your Information delhi is the capital of india'"
   ]
  },
  {
   "cell_type": "markdown",
   "id": "66c2b33d-8367-4c61-9193-27265c541219",
   "metadata": {},
   "source": [
    "### Spelling corrections"
   ]
  },
  {
   "cell_type": "code",
   "execution_count": 23,
   "id": "88aa311b-5c79-4ab4-beaf-d2e2c236c697",
   "metadata": {},
   "outputs": [
    {
     "name": "stdout",
     "output_type": "stream",
     "text": [
      "certain conditions during several generations are modified in the same manner.\n"
     ]
    }
   ],
   "source": [
    "from textblob import TextBlob\n",
    "\n",
    "# incorrect text\n",
    "incorrect_text = \"ceertain conditionas during seveal ggnerations aree moodified in the saame maner.\"\n",
    "\n",
    "# Create a TextBlob object\n",
    "textBlob = TextBlob(incorrect_text)\n",
    "\n",
    "# Correct spelling errors\n",
    "corrected_text = textBlob.correct()\n",
    "\n",
    "# Print corrected text\n",
    "print(corrected_text)"
   ]
  },
  {
   "cell_type": "markdown",
   "id": "659558d2-8c67-4fe3-832b-ada23a2b15b1",
   "metadata": {},
   "source": [
    "### Stopwords Remove"
   ]
  },
  {
   "cell_type": "code",
   "execution_count": 24,
   "id": "6cdabf8b-464c-4971-aaa2-2f65936fa7a2",
   "metadata": {},
   "outputs": [],
   "source": [
    "from nltk.corpus import stopwords"
   ]
  },
  {
   "cell_type": "code",
   "execution_count": 25,
   "id": "f6cd8378-4765-4ff3-ae06-3605808309bc",
   "metadata": {},
   "outputs": [
    {
     "data": {
      "text/plain": [
       "['i',\n",
       " 'me',\n",
       " 'my',\n",
       " 'myself',\n",
       " 'we',\n",
       " 'our',\n",
       " 'ours',\n",
       " 'ourselves',\n",
       " 'you',\n",
       " \"you're\",\n",
       " \"you've\",\n",
       " \"you'll\",\n",
       " \"you'd\",\n",
       " 'your',\n",
       " 'yours',\n",
       " 'yourself',\n",
       " 'yourselves',\n",
       " 'he',\n",
       " 'him',\n",
       " 'his',\n",
       " 'himself',\n",
       " 'she',\n",
       " \"she's\",\n",
       " 'her',\n",
       " 'hers',\n",
       " 'herself',\n",
       " 'it',\n",
       " \"it's\",\n",
       " 'its',\n",
       " 'itself',\n",
       " 'they',\n",
       " 'them',\n",
       " 'their',\n",
       " 'theirs',\n",
       " 'themselves',\n",
       " 'what',\n",
       " 'which',\n",
       " 'who',\n",
       " 'whom',\n",
       " 'this',\n",
       " 'that',\n",
       " \"that'll\",\n",
       " 'these',\n",
       " 'those',\n",
       " 'am',\n",
       " 'is',\n",
       " 'are',\n",
       " 'was',\n",
       " 'were',\n",
       " 'be',\n",
       " 'been',\n",
       " 'being',\n",
       " 'have',\n",
       " 'has',\n",
       " 'had',\n",
       " 'having',\n",
       " 'do',\n",
       " 'does',\n",
       " 'did',\n",
       " 'doing',\n",
       " 'a',\n",
       " 'an',\n",
       " 'the',\n",
       " 'and',\n",
       " 'but',\n",
       " 'if',\n",
       " 'or',\n",
       " 'because',\n",
       " 'as',\n",
       " 'until',\n",
       " 'while',\n",
       " 'of',\n",
       " 'at',\n",
       " 'by',\n",
       " 'for',\n",
       " 'with',\n",
       " 'about',\n",
       " 'against',\n",
       " 'between',\n",
       " 'into',\n",
       " 'through',\n",
       " 'during',\n",
       " 'before',\n",
       " 'after',\n",
       " 'above',\n",
       " 'below',\n",
       " 'to',\n",
       " 'from',\n",
       " 'up',\n",
       " 'down',\n",
       " 'in',\n",
       " 'out',\n",
       " 'on',\n",
       " 'off',\n",
       " 'over',\n",
       " 'under',\n",
       " 'again',\n",
       " 'further',\n",
       " 'then',\n",
       " 'once',\n",
       " 'here',\n",
       " 'there',\n",
       " 'when',\n",
       " 'where',\n",
       " 'why',\n",
       " 'how',\n",
       " 'all',\n",
       " 'any',\n",
       " 'both',\n",
       " 'each',\n",
       " 'few',\n",
       " 'more',\n",
       " 'most',\n",
       " 'other',\n",
       " 'some',\n",
       " 'such',\n",
       " 'no',\n",
       " 'nor',\n",
       " 'not',\n",
       " 'only',\n",
       " 'own',\n",
       " 'same',\n",
       " 'so',\n",
       " 'than',\n",
       " 'too',\n",
       " 'very',\n",
       " 's',\n",
       " 't',\n",
       " 'can',\n",
       " 'will',\n",
       " 'just',\n",
       " 'don',\n",
       " \"don't\",\n",
       " 'should',\n",
       " \"should've\",\n",
       " 'now',\n",
       " 'd',\n",
       " 'll',\n",
       " 'm',\n",
       " 'o',\n",
       " 're',\n",
       " 've',\n",
       " 'y',\n",
       " 'ain',\n",
       " 'aren',\n",
       " \"aren't\",\n",
       " 'couldn',\n",
       " \"couldn't\",\n",
       " 'didn',\n",
       " \"didn't\",\n",
       " 'doesn',\n",
       " \"doesn't\",\n",
       " 'hadn',\n",
       " \"hadn't\",\n",
       " 'hasn',\n",
       " \"hasn't\",\n",
       " 'haven',\n",
       " \"haven't\",\n",
       " 'isn',\n",
       " \"isn't\",\n",
       " 'ma',\n",
       " 'mightn',\n",
       " \"mightn't\",\n",
       " 'mustn',\n",
       " \"mustn't\",\n",
       " 'needn',\n",
       " \"needn't\",\n",
       " 'shan',\n",
       " \"shan't\",\n",
       " 'shouldn',\n",
       " \"shouldn't\",\n",
       " 'wasn',\n",
       " \"wasn't\",\n",
       " 'weren',\n",
       " \"weren't\",\n",
       " 'won',\n",
       " \"won't\",\n",
       " 'wouldn',\n",
       " \"wouldn't\"]"
      ]
     },
     "execution_count": 25,
     "metadata": {},
     "output_type": "execute_result"
    }
   ],
   "source": [
    "stopwords.words('english')"
   ]
  },
  {
   "cell_type": "code",
   "execution_count": 34,
   "id": "e0c6c951-f143-4102-9618-d9f5677fcc89",
   "metadata": {},
   "outputs": [
    {
     "name": "stdout",
     "output_type": "stream",
     "text": [
      "Probably all-time favorite movie, story selflessness, sacrifice, dedication noble cause.\n"
     ]
    },
    {
     "name": "stderr",
     "output_type": "stream",
     "text": [
      "[nltk_data] Downloading package stopwords to\n",
      "[nltk_data]     C:\\Users\\User\\AppData\\Roaming\\nltk_data...\n",
      "[nltk_data]   Package stopwords is already up-to-date!\n"
     ]
    }
   ],
   "source": [
    "import nltk\n",
    "from nltk.corpus import stopwords\n",
    "\n",
    "# Ensure stopwords are downloaded\n",
    "nltk.download('stopwords')\n",
    "\n",
    "def remove_stopwords(text):\n",
    "    \"\"\"Removes English stopwords from the given text.\"\"\"\n",
    "    stop_words = set(stopwords.words('english'))\n",
    "    \n",
    "    # Using list comprehension for efficiency\n",
    "    filtered_text = \" \".join([word for word in text.split() if word.lower() not in stop_words])\n",
    "    \n",
    "    return filtered_text\n",
    "\n",
    "# Example Usage\n",
    "text = \"Probably my all-time favorite movie, a story of selflessness, sacrifice, and dedication to a noble cause.\"\n",
    "cleaned_text = remove_stopwords(text)\n",
    "print(cleaned_text)"
   ]
  },
  {
   "cell_type": "markdown",
   "id": "b1956996-e2c0-4d0d-a78a-03a658611ff1",
   "metadata": {},
   "source": [
    "### Bangla Stopword Removal Function"
   ]
  },
  {
   "cell_type": "code",
   "execution_count": 1,
   "id": "b8c561c4-59e3-458d-a6ff-39171357b302",
   "metadata": {},
   "outputs": [],
   "source": [
    "import nltk\n",
    "\n",
    "# Bangla stopword\n",
    "bangla_stopwords = set([\n",
    "    \"আমি\", \"আমার\", \"আমাদের\", \"তুমি\", \"তোমার\", \"সে\", \"এই\", \"তা\", \"উপর\", \"কিছু\", \"কেন\", \"যা\", \"যেমন\",\n",
    "    \"যদি\", \"যে\", \"যেখানে\", \"সব\", \"সেটা\", \"হয়\", \"হতে\", \"হবে\", \"হয়েছে\", \"ছিল\", \"ছিলো\", \"দিয়ে\", \"না\"\n",
    "])"
   ]
  },
  {
   "cell_type": "code",
   "execution_count": 4,
   "id": "f5934ff3-520d-4d8e-a0f9-8ecbc167e873",
   "metadata": {},
   "outputs": [
    {
     "name": "stdout",
     "output_type": "stream",
     "text": [
      "ন্যাচারাল ল্যাঙ্গুয়েজ প্রসেসিং একটা খুবই গুরুত্বপূর্ণ টপিকস আর্টিফিশিয়াল ইন্টেলিজেন্সে\n"
     ]
    }
   ],
   "source": [
    "bangla_stopwords = set([\n",
    "    \"আমি\", \"আমার\", \"আমাদের\", \"তুমি\", \"তোমার\", \"সে\", \"এই\", \"তা\", \"উপর\", \"কিছু\", \n",
    "    \"কেন\", \"যা\", \"যেমন\", \"যদি\", \"যে\", \"যেখানে\", \"সব\", \"সেটা\", \"হয়\", \"হতে\", \n",
    "    \"হবে\", \"হয়েছে\", \"ছিল\", \"ছিলো\", \"দিয়ে\", \"না\"\n",
    "])\n",
    "\n",
    "def remove_stopwords(text):\n",
    "    \"\"\"Removes Bangla stopwords from the given text.\"\"\"\n",
    "    \n",
    "    filtered_text = \" \".join([word for word in text.split() if word not in bangla_stopwords])\n",
    "    return filtered_text\n",
    "\n",
    "# text\n",
    "text = \"ন্যাচারাল ল্যাঙ্গুয়েজ প্রসেসিং একটা খুবই গুরুত্বপূর্ণ টপিকস আর্টিফিশিয়াল ইন্টেলিজেন্সে\"\n",
    "cleaned_text = remove_stopwords(text)\n",
    "print(cleaned_text)"
   ]
  },
  {
   "cell_type": "code",
   "execution_count": 3,
   "id": "9d068671-4dbe-4cba-9125-7e8c25661228",
   "metadata": {},
   "outputs": [],
   "source": [
    "text2 = \"ন্যাচারাল ল্যাঙ্গুয়েজ প্রসেসিং একটা খুবই গুরুত্বপূর্ণ টপিকস আর্টিফিশিয়াল ইন্টেলিজেন্সে\"\n",
    "result = remove_stopwords(text2)"
   ]
  },
  {
   "cell_type": "code",
   "execution_count": 29,
   "id": "180c387b-92f4-471a-9968-97368c132b9a",
   "metadata": {},
   "outputs": [
    {
     "name": "stdout",
     "output_type": "stream",
     "text": [
      "সাথে দেখা করতে চাই\n"
     ]
    }
   ],
   "source": [
    "# Remove stopwords\n",
    "filtered_text = \" \".join([word for word in text.split() if word not in bangla_stopwords])\n",
    "print(filtered_text)"
   ]
  },
  {
   "cell_type": "markdown",
   "id": "7b905ec8-2956-4721-8efc-bb923f6013d4",
   "metadata": {},
   "source": [
    "### Emoji Removal Function"
   ]
  },
  {
   "cell_type": "code",
   "execution_count": 5,
   "id": "2db3a15d-9ac7-41c1-bc1a-cb0cdea71b54",
   "metadata": {},
   "outputs": [
    {
     "name": "stdout",
     "output_type": "stream",
     "text": [
      "Loved the movie. It was \n",
      "Lmao \n"
     ]
    }
   ],
   "source": [
    "import re\n",
    "import emoji\n",
    "\n",
    "def remove_emoji(text):\n",
    "    \"\"\"Removes emojis from the input text.\"\"\"\n",
    "    return emoji.replace_emoji(text, replace=\"\")  # Replaces all emojis with an empty string\n",
    "\n",
    "# Example Usage\n",
    "print(remove_emoji(\"Loved the movie. It was 😘😍\"))   # Output: 'Loved the movie. It was '\n",
    "print(remove_emoji(\"Lmao 😂😁\"))                     # Output: 'Lmao '"
   ]
  },
  {
   "cell_type": "markdown",
   "id": "6188d532-f1f9-4f32-aa91-8829fd124032",
   "metadata": {},
   "source": [
    "### Alternative solutions"
   ]
  },
  {
   "cell_type": "code",
   "execution_count": 6,
   "id": "af75f4df-972d-4f57-bcd3-16730d0692f1",
   "metadata": {},
   "outputs": [
    {
     "name": "stdout",
     "output_type": "stream",
     "text": [
      "Loved the movie. It was \n",
      "Lmao \n"
     ]
    }
   ],
   "source": [
    "import re\n",
    "\n",
    "def remove_emoji(text):\n",
    "    \"\"\"Removes emojis using regex pattern.\"\"\"\n",
    "    emoji_pattern = re.compile(\n",
    "        \"[\"\n",
    "        \"\\U0001F600-\\U0001F64F\"  # Emoticons\n",
    "        \"\\U0001F300-\\U0001F5FF\"  # Symbols & Pictographs\n",
    "        \"\\U0001F680-\\U0001F6FF\"  # Transport & Map Symbols\n",
    "        \"\\U0001F700-\\U0001F77F\"  # Alchemical Symbols\n",
    "        \"\\U0001F780-\\U0001F7FF\"  # Geometric Shapes\n",
    "        \"\\U0001F800-\\U0001F8FF\"  # Supplemental Arrows-C\n",
    "        \"\\U0001F900-\\U0001F9FF\"  # Supplemental Symbols and Pictographs\n",
    "        \"\\U0001FA00-\\U0001FA6F\"  # Chess Symbols\n",
    "        \"\\U0001FA70-\\U0001FAFF\"  # Symbols and Pictographs Extended-A\n",
    "        \"\\U00002702-\\U000027B0\"  # Dingbats\n",
    "        \"\\U000024C2-\\U0001F251\"  # Enclosed Characters\n",
    "        \"]+\", flags=re.UNICODE\n",
    "    )\n",
    "    return emoji_pattern.sub(r'', text)\n",
    "\n",
    "# Example Usage\n",
    "print(remove_emoji(\"Loved the movie. It was 😘😍\"))  # Output: 'Loved the movie. It was '\n",
    "print(remove_emoji(\"Lmao 😂😁\"))                    # Output: 'Lmao '"
   ]
  },
  {
   "cell_type": "code",
   "execution_count": 8,
   "id": "b7f32365-a129-4dd1-a40f-072a0d8e9d1b",
   "metadata": {},
   "outputs": [
    {
     "name": "stdout",
     "output_type": "stream",
     "text": [
      "I love bangladesh :face_with_tears_of_joy:\n"
     ]
    }
   ],
   "source": [
    "import emoji\n",
    "print(emoji.demojize('I love bangladesh 😂'))"
   ]
  },
  {
   "cell_type": "code",
   "execution_count": null,
   "id": "01e588f4-b41c-4ecc-ae40-addbd62c2140",
   "metadata": {},
   "outputs": [],
   "source": []
  }
 ],
 "metadata": {
  "kernelspec": {
   "display_name": "Python 3 (ipykernel)",
   "language": "python",
   "name": "python3"
  },
  "language_info": {
   "codemirror_mode": {
    "name": "ipython",
    "version": 3
   },
   "file_extension": ".py",
   "mimetype": "text/x-python",
   "name": "python",
   "nbconvert_exporter": "python",
   "pygments_lexer": "ipython3",
   "version": "3.11.8"
  }
 },
 "nbformat": 4,
 "nbformat_minor": 5
}
