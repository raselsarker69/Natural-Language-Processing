{
 "cells": [
  {
   "cell_type": "markdown",
   "metadata": {},
   "source": [
    "## Regular Expression\n",
    "- library: <b>re<b/>\n",
    "- pattern: any kind of string\n",
    "- Explanation:\n",
    "- **re.match():** Only checks if the pattern matches at the start of the string.\n",
    "- **re.search():** Scans the entire string to find the pattern, no matter where it occurs\n",
    "\n",
    "# [W3school](https://www.w3schools.com/python/python_regex.asp)"
   ]
  },
  {
   "attachments": {
    "549ce342-2c5f-4b13-b346-7d5a14f70517.png": {
     "image/png": "[encoded data removed]"
    }
   },
   "cell_type": "markdown",
   "metadata": {},
   "source": [
    "# ![image.png](attachment:549ce342-2c5f-4b13-b346-7d5a14f70517.png)"
   ]
  },
  {
   "cell_type": "code",
   "execution_count": 1,
   "metadata": {},
   "outputs": [
    {
     "name": "stdout",
     "output_type": "stream",
     "text": [
      "Match\n"
     ]
    }
   ],
   "source": [
    "import re  # Regular expression module import\n",
    "\n",
    "pattern= \"Machine\"  # Setting the pattern\n",
    "result = re.match(pattern, \"Machine Deep learning and learning natural languague processing\") # \"Machine\" স্ট্রিংটি প্যাটার্নের সাথে মিলে কিনা তা যাচাই করা\n",
    "\n",
    "if result:\n",
    "    print(\"Match\")\n",
    "else:\n",
    "    print(\"Not Match\")"
   ]
  },
  {
   "cell_type": "code",
   "execution_count": 3,
   "metadata": {},
   "outputs": [
    {
     "name": "stdout",
     "output_type": "stream",
     "text": [
      "Not Match\n"
     ]
    }
   ],
   "source": [
    "import re  # Regular expression module import\n",
    "\n",
    "pattern= \"Machine\"  # Setting the pattern\n",
    "result = re.match(pattern, \"Deep learning and learning natural Machine languague processing\") # \"Machine\" স্ট্রিংটি প্যাটার্নের সাথে মিলে কিনা তা যাচাই করা\n",
    "\n",
    "if result:\n",
    "    print(\"Match\")\n",
    "else:\n",
    "    print(\"Not Match\")"
   ]
  },
  {
   "cell_type": "code",
   "execution_count": 10,
   "metadata": {},
   "outputs": [],
   "source": [
    "result"
   ]
  },
  {
   "cell_type": "code",
   "execution_count": 6,
   "metadata": {},
   "outputs": [
    {
     "name": "stdout",
     "output_type": "stream",
     "text": [
      "Not Match\n"
     ]
    }
   ],
   "source": [
    "if result:\n",
    "    print(\"Match \")\n",
    "else:\n",
    "    print(\"Not Match\")"
   ]
  },
  {
   "cell_type": "code",
   "execution_count": 5,
   "metadata": {},
   "outputs": [
    {
     "name": "stdout",
     "output_type": "stream",
     "text": [
      "Not Match\n"
     ]
    }
   ],
   "source": [
    "import re\n",
    "\n",
    "pattern = \"Machine\"\n",
    "result = re.search(pattern, \"Deep learning and Machine learning natural language processing\")\n",
    "\n",
    "if result:\n",
    "    print(\"Match\")\n",
    "else:\n",
    "    print(\"Not Match\")"
   ]
  },
  {
   "cell_type": "markdown",
   "metadata": {},
   "source": [
    "## Meta Characters\n",
    "- . (dot): match any character"
   ]
  },
  {
   "cell_type": "code",
   "execution_count": 7,
   "metadata": {},
   "outputs": [
    {
     "name": "stdout",
     "output_type": "stream",
     "text": [
      "<re.Match object; span=(0, 7), match='Naturol'>\n"
     ]
    }
   ],
   "source": [
    "pattern='Natur.l'\n",
    "result=re.match(pattern, \"Naturol\")\n",
    "print(result)"
   ]
  },
  {
   "cell_type": "code",
   "execution_count": 8,
   "metadata": {},
   "outputs": [
    {
     "name": "stdout",
     "output_type": "stream",
     "text": [
      "<re.Match object; span=(0, 7), match='Machine'>\n"
     ]
    }
   ],
   "source": [
    "pattern='Machi.e'\n",
    "result=re.match(pattern, \"Machine\")\n",
    "print(result)"
   ]
  },
  {
   "cell_type": "code",
   "execution_count": 9,
   "metadata": {},
   "outputs": [
    {
     "name": "stdout",
     "output_type": "stream",
     "text": [
      "None\n"
     ]
    }
   ],
   "source": [
    "pattern='Pyth.n'\n",
    "result=re.match(pattern, \"thon\")\n",
    "print(result)"
   ]
  },
  {
   "cell_type": "markdown",
   "metadata": {},
   "source": [
    "## Character Class Set : []\n",
    "- [aeiou]: match any vowel\n",
    "- [0-9]: match any digit\n",
    "- [a-z]: match any lower case \n",
    "- [A-Z]: match any upper case "
   ]
  },
  {
   "cell_type": "code",
   "execution_count": 10,
   "metadata": {},
   "outputs": [
    {
     "name": "stdout",
     "output_type": "stream",
     "text": [
      "Vowel Found\n"
     ]
    }
   ],
   "source": [
    "pattern = \"[aeiou]\"\n",
    "if re.search(pattern, \"Artificial\"):\n",
    "       print(\"Vowel Found\")\n",
    "else:\n",
    "       print(\"Not found\")   "
   ]
  },
  {
   "cell_type": "code",
   "execution_count": 11,
   "metadata": {},
   "outputs": [
    {
     "name": "stdout",
     "output_type": "stream",
     "text": [
      "Not found\n"
     ]
    }
   ],
   "source": [
    "pattern = \"[aeiou]\"\n",
    "if re.search(pattern, \"bktprn\"):\n",
    "       print(\"Vowel Found\")\n",
    "else:\n",
    "       print(\"Not found\")   "
   ]
  },
  {
   "cell_type": "code",
   "execution_count": 12,
   "metadata": {},
   "outputs": [
    {
     "name": "stdout",
     "output_type": "stream",
     "text": [
      "Digit Found\n"
     ]
    }
   ],
   "source": [
    "pattern = \"[0-9]\"\n",
    "if re.search(pattern, \"Deeplearning123456\"):\n",
    "       print(\"Digit Found\")\n",
    "else:\n",
    "       print(\"Not found\")   "
   ]
  },
  {
   "cell_type": "code",
   "execution_count": 14,
   "metadata": {},
   "outputs": [
    {
     "name": "stdout",
     "output_type": "stream",
     "text": [
      "Digit Found\n"
     ]
    }
   ],
   "source": [
    "#pattern = \"[0-9]\"\n",
    "pattern = \"[aeiou]\"\n",
    "if re.search(pattern, \"Rasel\"):\n",
    "       print(\"Digit Found\")\n",
    "else:\n",
    "       print(\"Not found\")   "
   ]
  },
  {
   "cell_type": "code",
   "execution_count": 16,
   "metadata": {},
   "outputs": [
    {
     "name": "stdout",
     "output_type": "stream",
     "text": [
      "Digit Found\n"
     ]
    }
   ],
   "source": [
    "pattern = \"[0-9]\"\n",
    "if re.search(pattern, \"6548Faisal\"):\n",
    "       print(\"Digit Found\")\n",
    "else:\n",
    "       print(\"Not found\")   "
   ]
  },
  {
   "cell_type": "markdown",
   "metadata": {},
   "source": [
    "# Part-02 Regular Expression - Kleene closure and Pipe Symbol"
   ]
  },
  {
   "cell_type": "markdown",
   "metadata": {},
   "source": [
    "## Kleenee closer\n",
    "\n",
    "- \"*\" : 0 or more\n",
    "- \"+\" : 1 or more\n",
    "- New (s)* : New, News, Newss, Newssss, Newssssss\n",
    "- New (s)+ : News, Newss, Newssss, Newssssss\n"
   ]
  },
  {
   "cell_type": "code",
   "execution_count": 1,
   "metadata": {},
   "outputs": [],
   "source": [
    "import re"
   ]
  },
  {
   "cell_type": "markdown",
   "metadata": {},
   "source": [
    "### Example: Star"
   ]
  },
  {
   "cell_type": "code",
   "execution_count": 17,
   "metadata": {},
   "outputs": [
    {
     "name": "stdout",
     "output_type": "stream",
     "text": [
      "Match \n"
     ]
    }
   ],
   "source": [
    "pattern=\"New(s)*\"\n",
    "if re.match(pattern, \"New\"):\n",
    "    print(\"Match \")\n",
    "else:\n",
    "    print(\"Not Match\")"
   ]
  },
  {
   "cell_type": "code",
   "execution_count": 18,
   "metadata": {},
   "outputs": [
    {
     "name": "stdout",
     "output_type": "stream",
     "text": [
      "Match \n"
     ]
    }
   ],
   "source": [
    "pattern=\"New(s)*\"\n",
    "if re.match(pattern, \"Newssssssss\"):\n",
    "    print(\"Match \")\n",
    "else:\n",
    "    print(\"Not Match\")"
   ]
  },
  {
   "cell_type": "code",
   "execution_count": 21,
   "metadata": {},
   "outputs": [
    {
     "name": "stdout",
     "output_type": "stream",
     "text": [
      "Match \n"
     ]
    }
   ],
   "source": [
    "pattern=\"old(s)*\"\n",
    "if re.match(pattern, \"old\"):\n",
    "    print(\"Match \")\n",
    "else:\n",
    "    print(\"Not Match\")"
   ]
  },
  {
   "cell_type": "code",
   "execution_count": 5,
   "metadata": {},
   "outputs": [
    {
     "name": "stdout",
     "output_type": "stream",
     "text": [
      "Not Match\n"
     ]
    }
   ],
   "source": [
    "pattern=\"New(s)*\"\n",
    "if re.match(pattern, \"N\"):\n",
    "    print(\"Match \")\n",
    "else:\n",
    "    print(\"Not Match\")"
   ]
  },
  {
   "cell_type": "markdown",
   "metadata": {},
   "source": [
    "### Example: Plus\n",
    "মূল পার্থক্য:\n",
    "- \"New(s)*\" → \"s\" থাকা ঐচ্ছিক।\n",
    "- \"New(s)+\" → \"s\" অন্তত একবার থাকা বাধ্যতামূলক।"
   ]
  },
  {
   "cell_type": "code",
   "execution_count": 23,
   "metadata": {},
   "outputs": [
    {
     "name": "stdout",
     "output_type": "stream",
     "text": [
      "Match \n"
     ]
    }
   ],
   "source": [
    "pattern=\"New(s)+\"\n",
    "if re.match(pattern, \"News\"):\n",
    "    print(\"Match \")\n",
    "else:\n",
    "    print(\"Not Match\")"
   ]
  },
  {
   "cell_type": "code",
   "execution_count": 7,
   "metadata": {},
   "outputs": [
    {
     "name": "stdout",
     "output_type": "stream",
     "text": [
      "Match \n"
     ]
    }
   ],
   "source": [
    "pattern=\"New(s)+\"\n",
    "if re.match(pattern, \"News\"):\n",
    "    print(\"Match \")\n",
    "else:\n",
    "    print(\"Not Match\")"
   ]
  },
  {
   "cell_type": "code",
   "execution_count": null,
   "metadata": {},
   "outputs": [],
   "source": []
  },
  {
   "cell_type": "code",
   "execution_count": null,
   "metadata": {},
   "outputs": [],
   "source": []
  },
  {
   "cell_type": "markdown",
   "metadata": {},
   "source": [
    "## Meta Character: | (Pipe Symbol)\n",
    "- | : works similiar like logical OR\n",
    "- Go (es|ing): Goes, Going\n",
    "- S (a|u|i) ng: Sing, Sung, Sang"
   ]
  },
  {
   "cell_type": "code",
   "execution_count": null,
   "metadata": {},
   "outputs": [],
   "source": []
  },
  {
   "attachments": {
    "fd46f93c-d6fd-4df7-9ce9-f79c4f7665f2.png": {
     "image/png": "[encoded data removed]"
    }
   },
   "cell_type": "markdown",
   "metadata": {},
   "source": [
    "## Example: Two string \n",
    "Pattern \"Go(es|ing)\" explaination:\n",
    "- \"Go\" → প্রথম অংশ \"Go\" থাকতে হবে।\n",
    "- \"(es|ing)\" → এরপর অবশ্যই \"es\" অথবা \"ing\" থাকতে হবে।\n",
    "    - | (pipe symbol) মানে বা (OR) অপারেটর। অর্থাৎ, এটি \"es\" বা \"ing\" যেকোনো একটি গ্রহণ করবে।\n",
    "---\n",
    "\n",
    "### Why would the code print \"Match\"?\n",
    "re.match(pattern, \"Goes\") এখানে:\n",
    "- \"Goes\" → \"Go\" অংশ মিলে যাচ্ছে।\n",
    "- \"es\" → \"es\" অংশও মিলে যাচ্ছে।\n",
    "    - যেহেতু \"Goes\" পুরো প্যাটার্নের সাথে মিলে যাচ্ছে, তাই \"Match\" প্রিন্ট হবে।\n",
    "---\n",
    "\n",
    "#### Results in summary\n",
    "![image.png](attachment:fd46f93c-d6fd-4df7-9ce9-f79c4f7665f2.png)"
   ]
  },
  {
   "cell_type": "code",
   "execution_count": 24,
   "metadata": {},
   "outputs": [
    {
     "name": "stdout",
     "output_type": "stream",
     "text": [
      "Match \n"
     ]
    }
   ],
   "source": [
    "pattern=\"Go(es|ing)\"      # setting pattern \n",
    "\n",
    "if re.match(pattern, \"Goes\"): # \"Goes\" স্ট্রিংটি প্যাটার্নের সাথে মিলে কিনা তা যাচাই করা\n",
    "    print(\"Match \")\n",
    "else:\n",
    "    print(\"Not Match\")"
   ]
  },
  {
   "cell_type": "code",
   "execution_count": 25,
   "metadata": {},
   "outputs": [
    {
     "name": "stdout",
     "output_type": "stream",
     "text": [
      "Match \n"
     ]
    }
   ],
   "source": [
    "pattern=\"Go(es|ing)\"\n",
    "if re.match(pattern, \"Going\"):\n",
    "    print(\"Match \")\n",
    "else:\n",
    "    print(\"Not Match\")"
   ]
  },
  {
   "cell_type": "code",
   "execution_count": 28,
   "metadata": {},
   "outputs": [
    {
     "name": "stdout",
     "output_type": "stream",
     "text": [
      "Match \n"
     ]
    }
   ],
   "source": [
    "pattern=\"Go(es|ing|ne)\"\n",
    "if re.match(pattern, \"Gone\"):\n",
    "    print(\"Match \")\n",
    "else:\n",
    "    print(\"Not Match\")"
   ]
  },
  {
   "cell_type": "markdown",
   "metadata": {},
   "source": [
    "### Example: Multiple String"
   ]
  },
  {
   "cell_type": "code",
   "execution_count": 29,
   "metadata": {},
   "outputs": [
    {
     "name": "stdout",
     "output_type": "stream",
     "text": [
      "Match \n"
     ]
    }
   ],
   "source": [
    "pattern=\"S(a|u|i)ng\"\n",
    "if re.match(pattern, \"Sing\"):\n",
    "    print(\"Match \")\n",
    "else:\n",
    "    print(\"Not Match\")"
   ]
  },
  {
   "cell_type": "code",
   "execution_count": 30,
   "metadata": {},
   "outputs": [
    {
     "name": "stdout",
     "output_type": "stream",
     "text": [
      "Match \n"
     ]
    }
   ],
   "source": [
    "pattern=\"S(a|u|i)ng\"\n",
    "if re.match(pattern, \"Sung\"):\n",
    "    print(\"Match \")\n",
    "else:\n",
    "    print(\"Not Match\")"
   ]
  },
  {
   "cell_type": "code",
   "execution_count": 31,
   "metadata": {},
   "outputs": [
    {
     "name": "stdout",
     "output_type": "stream",
     "text": [
      "Match \n"
     ]
    }
   ],
   "source": [
    "pattern=\"S(a|u|i)ng\"\n",
    "if re.match(pattern, \"Sang\"):\n",
    "    print(\"Match \")\n",
    "else:\n",
    "    print(\"Not Match\")"
   ]
  },
  {
   "cell_type": "code",
   "execution_count": 32,
   "metadata": {},
   "outputs": [
    {
     "name": "stdout",
     "output_type": "stream",
     "text": [
      "Not Match\n"
     ]
    }
   ],
   "source": [
    "pattern=\"S(a|u|i)ng\"\n",
    "if re.match(pattern, \"Song\"):\n",
    "    print(\"Match \")\n",
    "else:\n",
    "    print(\"Not Match\")"
   ]
  },
  {
   "cell_type": "markdown",
   "metadata": {},
   "source": [
    "### Example: Multiple String with star"
   ]
  },
  {
   "cell_type": "code",
   "execution_count": 35,
   "metadata": {},
   "outputs": [
    {
     "name": "stdout",
     "output_type": "stream",
     "text": [
      "Match \n"
     ]
    }
   ],
   "source": [
    "pattern=\"S(a|u|i)*ng\"\n",
    "if re.match(pattern, \"Sng\"):\n",
    "    print(\"Match \")\n",
    "else:\n",
    "    print(\"Not Match\")"
   ]
  },
  {
   "cell_type": "code",
   "execution_count": null,
   "metadata": {},
   "outputs": [],
   "source": []
  },
  {
   "cell_type": "markdown",
   "metadata": {},
   "source": [
    "## Examples: Star or plus in middle \n",
    "- love\n",
    "- lovvvvvvvvvvvvvvvvvvvvvvvvvveeee\n",
    "- loveeeee"
   ]
  },
  {
   "cell_type": "code",
   "execution_count": 36,
   "metadata": {},
   "outputs": [
    {
     "name": "stdout",
     "output_type": "stream",
     "text": [
      "Match\n"
     ]
    }
   ],
   "source": [
    "pattern=\"lo(v)*e\"\n",
    "if re.match(pattern,'love'):\n",
    "    print(\"Match\")\n",
    "else:\n",
    "    print(\"Not Match\")"
   ]
  },
  {
   "cell_type": "code",
   "execution_count": 37,
   "metadata": {},
   "outputs": [
    {
     "name": "stdout",
     "output_type": "stream",
     "text": [
      "Match\n"
     ]
    }
   ],
   "source": [
    "pattern=\"lo(v)*e\"\n",
    "if re.match(pattern,'lovvvvvvvvvvvve'):\n",
    "    print(\"Match\")\n",
    "else:\n",
    "    print(\"Not Match\")"
   ]
  },
  {
   "cell_type": "code",
   "execution_count": 38,
   "metadata": {},
   "outputs": [
    {
     "name": "stdout",
     "output_type": "stream",
     "text": [
      "Match\n"
     ]
    }
   ],
   "source": [
    "pattern=\"lo(v)*e\"\n",
    "if re.match(pattern,'loe'):\n",
    "    print(\"Match\")\n",
    "else:\n",
    "    print(\"Not Match\")"
   ]
  },
  {
   "cell_type": "code",
   "execution_count": 39,
   "metadata": {},
   "outputs": [
    {
     "name": "stdout",
     "output_type": "stream",
     "text": [
      "Not Match\n"
     ]
    }
   ],
   "source": [
    "pattern=\"lo(v)*e\"\n",
    "if re.match(pattern,'lov'):\n",
    "    print(\"Match\")\n",
    "else:\n",
    "    print(\"Not Match\")"
   ]
  },
  {
   "cell_type": "markdown",
   "metadata": {},
   "source": [
    "### Example: Sentence or word"
   ]
  },
  {
   "cell_type": "code",
   "execution_count": 25,
   "metadata": {},
   "outputs": [
    {
     "name": "stdout",
     "output_type": "stream",
     "text": [
      "Match \n"
     ]
    }
   ],
   "source": [
    "pattern=\"(Machine|Learning)\"\n",
    "text=\"Machine\"\n",
    "if re.match(pattern, text):\n",
    "    print(\"Match \")\n",
    "else:\n",
    "    print(\"Not Match\")"
   ]
  },
  {
   "cell_type": "code",
   "execution_count": 26,
   "metadata": {},
   "outputs": [
    {
     "name": "stdout",
     "output_type": "stream",
     "text": [
      "Match \n"
     ]
    }
   ],
   "source": [
    "pattern=\"(Machine|Learning)\"\n",
    "text=\"Learning\"\n",
    "if re.match(pattern, text):\n",
    "    print(\"Match \")\n",
    "else:\n",
    "    print(\"Not Match\")"
   ]
  },
  {
   "cell_type": "code",
   "execution_count": 27,
   "metadata": {},
   "outputs": [
    {
     "name": "stdout",
     "output_type": "stream",
     "text": [
      "Not Match\n"
     ]
    }
   ],
   "source": [
    "# Not correct: choose l or B\n",
    "pattern=\"(Machine|Learning)\"\n",
    "text=\"Natural\"\n",
    "if re.match(pattern, text):\n",
    "    print(\"Match \")\n",
    "else:\n",
    "    print(\"Not Match\")"
   ]
  },
  {
   "cell_type": "markdown",
   "metadata": {},
   "source": [
    "# Punctuation Handling"
   ]
  },
  {
   "cell_type": "markdown",
   "metadata": {},
   "source": [
    "#### re.sub() Explaination:\n",
    "- re.sub() হল Python-এর Regular Expression (re) মডিউলের একটি ফাংশন, যা একটি নির্দিষ্ট প্যাটার্ন (pattern) খুঁজে সেটি অন্য একটি মান দিয়ে পরিবর্তন (replace) করে।\n",
    "- re.sub(pattern, replacement, string, count=0, flags=0)\n",
    "- re.sub(\"কি খুঁজবে\", \"কি বসাবে\", \"কোন টেক্সটে\")\n",
    "---\n",
    "- pattern → যে regex প্যাটার্নটি খুঁজবেন।\n",
    "- replacement → যেটি দিয়ে pattern-এর অংশটি পরিবর্তন করা হবে।\n",
    "- string → যে স্ট্রিংয়ের মধ্যে প্যাটার্ন খোঁজা এবং পরিবর্তন করা হবে।\n",
    "- count (ঐচ্ছিক) → কয়বার পরিবর্তন করা হবে (ডিফল্ট = সব জায়গায় পরিবর্তন হবে)।\n",
    "- flags (ঐচ্ছিক) → কিছু অতিরিক্ত অপশন দিতে পারেন, যেমন case-insensitive (re.IGNORECASE)।"
   ]
  },
  {
   "cell_type": "markdown",
   "metadata": {},
   "source": [
    "### 1. Remove Punctuation\n",
    "Punctuation can often be removed during preprocessing to clean the text.\n",
    "- Regex: r'[^\\w\\s]'\n",
    "- [^\\w\\s] Explanation:\n",
    "    - \\w → A-Z, a-z, 0-9 এবং _ (underscore) রাখবে।\n",
    "    - \\s → স্পেস, ট্যাব, নিউলাইন রাখবে।\n",
    "    - ^ → \"not\" বোঝায়, অর্থাৎ যেগুলো \\w এবং \\s না, সেগুলো মুছে ফেলা হবে।"
   ]
  },
  {
   "cell_type": "markdown",
   "metadata": {},
   "source": [
    "### 1️⃣ To remove only common punctuation:"
   ]
  },
  {
   "cell_type": "code",
   "execution_count": null,
   "metadata": {},
   "outputs": [],
   "source": [
    "re.sub(r\"[.,!?;:(){}\\[\\]\\\"']\", \"\", text) → এখানে কোনো অক্ষর বা সংখ্যা বাদ পড়বে না।"
   ]
  },
  {
   "cell_type": "markdown",
   "metadata": {},
   "source": [
    "### 2️⃣ শুধুমাত্র ASCII punctuation remove করতে (Python string.punctuation use করা হয়):\n",
    "- string.punctuation → Python build-in library যা সব ASCII punctuation ধারণ করে।\n",
    "- re.escape() → string.punctuation-এ থাকা ক্যারেক্টারগুলোকে regex-এ properly escape করতে help করে।"
   ]
  },
  {
   "cell_type": "code",
   "execution_count": null,
   "metadata": {},
   "outputs": [],
   "source": [
    "re.sub(f\"[{re.escape(string.punctuation)}]\", \"\", text)"
   ]
  },
  {
   "cell_type": "markdown",
   "metadata": {},
   "source": [
    "### 3️⃣ যদি শুধু বাক্যের শেষে থাকা punctuation remove করার ক্ষেত্রে:"
   ]
  },
  {
   "cell_type": "code",
   "execution_count": null,
   "metadata": {},
   "outputs": [],
   "source": [
    "re.sub(r\"[\\.\\?!]+$\", \"\", text)"
   ]
  },
  {
   "cell_type": "markdown",
   "metadata": {},
   "source": [
    "### 4️⃣ যদি শুধুমাত্র একাধিক পাংচুয়েশন একসাথে থাকলে রিমুভ করতে চান (বাক্যের মাঝেরটি রেখে দিতে চান):\n",
    "- এটি একাধিক একই রকম punctuation থাকলে একটি রেখে বাকি remove করবে।\n",
    "- example: \"Hello!!!\" → \"Hello!\""
   ]
  },
  {
   "cell_type": "code",
   "execution_count": null,
   "metadata": {},
   "outputs": [],
   "source": [
    "re.sub(r\"[\\.\\?!]+$\", \"\", text)"
   ]
  },
  {
   "attachments": {
    "05369202-3790-4244-855f-0d52cac48328.png": {
     "image/png": "[encoded data removed]"
    }
   },
   "cell_type": "markdown",
   "metadata": {},
   "source": [
    "### 5️⃣ শুধুমাত্র নন-ASCII বা বিশেষ ক্যারেক্টার রিমুভ করতে:\n",
    "!![image.png](attachment:05369202-3790-4244-855f-0d52cac48328.png)"
   ]
  },
  {
   "cell_type": "code",
   "execution_count": null,
   "metadata": {},
   "outputs": [],
   "source": [
    "re.sub(r\"[^\\x00-\\x7F]+\", \"\", text)"
   ]
  },
  {
   "cell_type": "code",
   "execution_count": null,
   "metadata": {},
   "outputs": [],
   "source": []
  },
  {
   "cell_type": "markdown",
   "metadata": {},
   "source": [
    "### Practice code."
   ]
  },
  {
   "cell_type": "code",
   "execution_count": 40,
   "metadata": {},
   "outputs": [
    {
     "name": "stdout",
     "output_type": "stream",
     "text": [
      "Hello World NLP is fun\n"
     ]
    }
   ],
   "source": [
    "import re\n",
    "text = \"Hello, World! NLP is fun.\"\n",
    "cleaned_text = re.sub(r'[^\\w\\s]', '', text)\n",
    "print(cleaned_text)  # Output: \"Hello World NLP is fun\""
   ]
  },
  {
   "cell_type": "markdown",
   "metadata": {},
   "source": [
    "### 2. Convert Multiple Spaces to a Single Space\n",
    "Sometimes, text may have extra spaces that need to be normalized.\n",
    "\n",
    "- Regex: r'\\s+'\n",
    "\n",
    "- Explanation:\n",
    "- \\s+ - Matches one or more whitespace characters."
   ]
  },
  {
   "cell_type": "code",
   "execution_count": 42,
   "metadata": {},
   "outputs": [
    {
     "name": "stdout",
     "output_type": "stream",
     "text": [
      "This is an example Machine learning is fun!.\n"
     ]
    }
   ],
   "source": [
    "text = \"This   is   an   example   Machine learning     is     fun!.\"\n",
    "cleaned_text = re.sub(r'\\s+', ' ', text)\n",
    "print(cleaned_text)  # Output: \"This is an example\""
   ]
  },
  {
   "cell_type": "markdown",
   "metadata": {},
   "source": [
    "### 3. Remove Numbers\n",
    "To clean numbers from text.\n",
    "\n",
    "- Regex: r'\\d+'\n",
    "\n",
    "- Explanation:\n",
    "- \\d+ - Matches one or more digits."
   ]
  },
  {
   "cell_type": "code",
   "execution_count": 46,
   "metadata": {},
   "outputs": [
    {
     "name": "stdout",
     "output_type": "stream",
     "text": [
      "I have cats and dogs.\n"
     ]
    }
   ],
   "source": [
    "text = \"I 21 have 2 cats 58 and 3 dogs.\"\n",
    "cleaned_text = re.sub(r'\\d+\\s+', '', text)\n",
    "print(cleaned_text)  # Output: \"I have  cats and  dogs.\""
   ]
  },
  {
   "cell_type": "code",
   "execution_count": 49,
   "metadata": {},
   "outputs": [
    {
     "name": "stdout",
     "output_type": "stream",
     "text": [
      "I ave ats  and ogs.\n"
     ]
    }
   ],
   "source": [
    "text = \"I 21 have 2 cats  and 3 dogs.\"\n",
    "cleaned_text = re.sub(r'\\d+\\s+\\w', '', text)\n",
    "print(cleaned_text)  # Output: \"I have  cats and  dogs.\""
   ]
  },
  {
   "cell_type": "markdown",
   "metadata": {},
   "source": [
    "### 4. Remove Non-ASCII Characters\n",
    "For cases where only ASCII characters are required.\n",
    "\n",
    "- Regex: r'[^\\x00-\\x7F]'\n",
    "\n",
    "- Explanation:\n",
    "- \\x00-\\x7F - Matches any ASCII character.\n",
    "- [^...] - Negates the set, matching non-ASCII characters."
   ]
  },
  {
   "cell_type": "code",
   "execution_count": 51,
   "metadata": {},
   "outputs": [
    {
     "name": "stdout",
     "output_type": "stream",
     "text": [
      "Hello ! NLP * is  cool.\n"
     ]
    }
   ],
   "source": [
    "text = \"Hello 😊! NLP * is 🔹 cool.\"\n",
    "cleaned_text = re.sub(r'[^\\x00-\\x7F]', '', text)\n",
    "print(cleaned_text)  # Output: \"Hello ! NLP is cool.\""
   ]
  },
  {
   "cell_type": "markdown",
   "metadata": {},
   "source": [
    "### 5. Tokenize Words\n",
    "Split text into individual words.\n",
    "\n",
    "- Regex: r'\\b\\w+\\b'\n",
    "\n",
    "- Explanation:\n",
    "- \\b - Word boundary.\n",
    "- \\w+ - Matches one or more word characters."
   ]
  },
  {
   "cell_type": "code",
   "execution_count": 56,
   "metadata": {},
   "outputs": [
    {
     "name": "stdout",
     "output_type": "stream",
     "text": [
      "['', '', '', '', '', '', '', '', '', '']\n"
     ]
    }
   ],
   "source": [
    "text = \"Computer vision is very easy.\"\n",
    "tokens = re.findall(r'\\b', text)\n",
    "print(tokens)  # Output: ['Hello', 'World', 'NLP', 'is', 'fun']"
   ]
  },
  {
   "cell_type": "code",
   "execution_count": 57,
   "metadata": {},
   "outputs": [
    {
     "name": "stdout",
     "output_type": "stream",
     "text": [
      "['Computer', 'vision', 'is', 'very', 'easy']\n"
     ]
    }
   ],
   "source": [
    "text = \"Computer vision is very easy.\"\n",
    "tokens = re.findall(r'\\b\\w+', text)\n",
    "print(tokens)  # Output: ['Hello', 'World', 'NLP', 'is', 'fun']"
   ]
  },
  {
   "cell_type": "code",
   "execution_count": 58,
   "metadata": {},
   "outputs": [
    {
     "name": "stdout",
     "output_type": "stream",
     "text": [
      "['Computer', 'vision', 'is', 'very', 'easy']\n"
     ]
    }
   ],
   "source": [
    "text = \"Computer vision is very easy.\"\n",
    "tokens = re.findall(r'\\b\\w+\\b', text)\n",
    "print(tokens)  # Output: ['Hello', 'World', 'NLP', 'is', 'fun']"
   ]
  },
  {
   "cell_type": "markdown",
   "metadata": {},
   "source": [
    "### 6. Extract Email Addresses\n",
    "To identify and extract email addresses from text.\n",
    "\n",
    "- Regex: r'[a-zA-Z0-9._%+-]+@[a-zA-Z0-9.-]+\\.[a-zA-Z]{2,}'\n",
    "\n",
    "Explanation:\n",
    "- Matches valid email patterns."
   ]
  },
  {
   "cell_type": "code",
   "execution_count": 59,
   "metadata": {},
   "outputs": [
    {
     "name": "stdout",
     "output_type": "stream",
     "text": [
      "['info@example.com', 'support@domain.org']\n"
     ]
    }
   ],
   "source": [
    "text = \"Contact us at info@example.com or support@domain.org.\"\n",
    "emails = re.findall(r'[a-zA-Z0-9._%+-]+@[a-zA-Z0-9.-]+\\.[a-zA-Z]{2,}', text)\n",
    "print(emails)  # Output: ['info@example.com', 'support@domain.org']"
   ]
  },
  {
   "cell_type": "code",
   "execution_count": 65,
   "metadata": {},
   "outputs": [
    {
     "name": "stdout",
     "output_type": "stream",
     "text": [
      "['rasel@example.com', 'support@gmail.com']\n"
     ]
    }
   ],
   "source": [
    "text = \"Contact us at rasel@example.com or support@gmail.com.\"\n",
    "emails = re.findall(r'[a-zA-Z0-9._%+-]+@[a-zA-Z0-9.-]+\\.[a-zA-Z]{2,}', text)\n",
    "print(emails)  # Output: ['rasel@example.com', 'support@gmail.com']"
   ]
  },
  {
   "cell_type": "code",
   "execution_count": null,
   "metadata": {},
   "outputs": [],
   "source": []
  },
  {
   "cell_type": "markdown",
   "metadata": {},
   "source": [
    "### 7. Find URLs\n",
    "Extract URLs from text.\n",
    "\n",
    "Regex: r'https?://[^\\s]+'\n",
    "\n",
    "Explanation:\n",
    "- https? - Matches \"http\" or \"https\".\n",
    "- :// - Matches the colon and double slashes.\n",
    "- [^\\s]+ - Matches all non-whitespace characters after ://."
   ]
  },
  {
   "cell_type": "code",
   "execution_count": null,
   "metadata": {},
   "outputs": [],
   "source": []
  },
  {
   "cell_type": "code",
   "execution_count": 67,
   "metadata": {},
   "outputs": [
    {
     "name": "stdout",
     "output_type": "stream",
     "text": [
      "['https://www.google.com', 'http://example.org']\n"
     ]
    }
   ],
   "source": [
    "text = \"Visit https://www.google.com or http://example.org for more info.\"\n",
    "urls = re.findall(r'https?://[^\\s]+', text)\n",
    "print(urls)  # Output: ['https://www.google.com', 'http://example.org']"
   ]
  },
  {
   "cell_type": "markdown",
   "metadata": {},
   "source": [
    "### 8. Replace Specific Words\n",
    "Replace target words with another word.\n",
    "\n",
    "- Regex: r'\\b(word1|word2|word3)\\b'\n",
    "\n",
    "Explanation:\n",
    "- word1|word2|word3 - Matches any of the words separated by |.\n",
    "- \\b - Ensures matching whole words only."
   ]
  },
  {
   "cell_type": "code",
   "execution_count": 71,
   "metadata": {},
   "outputs": [
    {
     "name": "stdout",
     "output_type": "stream",
     "text": [
      "This is a sample sample.\n"
     ]
    }
   ],
   "source": [
    "text = \"This is a test example.\"\n",
    "cleaned_text = re.sub(r'\\b(test|example)\\b', 'sample', text)\n",
    "print(cleaned_text)  # Output: \"This is a sample sample.\""
   ]
  },
  {
   "cell_type": "code",
   "execution_count": null,
   "metadata": {},
   "outputs": [],
   "source": []
  }
 ],
 "metadata": {
  "kernelspec": {
   "display_name": "Python 3 (ipykernel)",
   "language": "python",
   "name": "python3"
  },
  "language_info": {
   "codemirror_mode": {
    "name": "ipython",
    "version": 3
   },
   "file_extension": ".py",
   "mimetype": "text/x-python",
   "name": "python",
   "nbconvert_exporter": "python",
   "pygments_lexer": "ipython3",
   "version": "3.11.8"
  }
 },
 "nbformat": 4,
 "nbformat_minor": 4
}
