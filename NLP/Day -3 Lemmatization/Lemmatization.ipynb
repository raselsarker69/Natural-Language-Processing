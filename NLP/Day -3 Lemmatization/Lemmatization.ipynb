{
 "cells": [
  {
   "attachments": {},
   "cell_type": "markdown",
   "metadata": {},
   "source": [
    "## Lemmatization\n",
    "Lemmatization reduces words to their base word, which is linguistically correct lemmas. It transforms root word with the use of vocabulary and morphological analysis. \n",
    "\n",
    "Lemmatization: Finding the same root \n",
    "- Input : (Sings, Sung, Sang)\n",
    "- Output : Sing\n"
   ]
  },
  {
   "cell_type": "markdown",
   "metadata": {},
   "source": [
    "https://wordnet.princeton.edu/"
   ]
  },
  {
   "cell_type": "code",
   "execution_count": 1,
   "metadata": {
    "scrolled": true
   },
   "outputs": [
    {
     "name": "stderr",
     "output_type": "stream",
     "text": [
      "[nltk_data] Downloading package wordnet to\n",
      "[nltk_data]     C:\\Users\\User\\AppData\\Roaming\\nltk_data...\n",
      "[nltk_data]   Package wordnet is already up-to-date!\n"
     ]
    },
    {
     "data": {
      "text/plain": [
       "True"
      ]
     },
     "execution_count": 1,
     "metadata": {},
     "output_type": "execute_result"
    }
   ],
   "source": [
    "import nltk\n",
    "nltk.download('wordnet')"
   ]
  },
  {
   "cell_type": "code",
   "execution_count": 2,
   "metadata": {},
   "outputs": [],
   "source": [
    "from nltk.stem.wordnet import WordNetLemmatizer\n",
    "lemmatizer=WordNetLemmatizer()"
   ]
  },
  {
   "cell_type": "markdown",
   "metadata": {},
   "source": [
    "## Remove the s or es and finding the root"
   ]
  },
  {
   "cell_type": "code",
   "execution_count": 3,
   "metadata": {},
   "outputs": [
    {
     "name": "stdout",
     "output_type": "stream",
     "text": [
      "rocks : rock\n",
      "bues : bus\n",
      "students : student\n",
      "computers : computer\n",
      "goes : go\n",
      "languages : language\n"
     ]
    }
   ],
   "source": [
    "print(\"rocks :\", lemmatizer.lemmatize(\"rocks\"))\n",
    "print(\"bues :\", lemmatizer.lemmatize(\"buses\"))\n",
    "print(\"students :\", lemmatizer.lemmatize(\"students\"))\n",
    "print(\"computers :\", lemmatizer.lemmatize(\"computers\"))\n",
    "print(\"goes :\", lemmatizer.lemmatize(\"goes\"))\n",
    "print(\"languages :\", lemmatizer.lemmatize(\"languages\"))"
   ]
  },
  {
   "cell_type": "markdown",
   "metadata": {},
   "source": [
    "## Lematize the verb with arguments"
   ]
  },
  {
   "cell_type": "code",
   "execution_count": 4,
   "metadata": {},
   "outputs": [
    {
     "name": "stdout",
     "output_type": "stream",
     "text": [
      "Lemmatization : flying ->  fly\n"
     ]
    }
   ],
   "source": [
    "word=\"flying\"\n",
    "print(\"Lemmatization : \"+word+\" -> \",lemmatizer.lemmatize(word,'v'))"
   ]
  },
  {
   "cell_type": "code",
   "execution_count": 5,
   "metadata": {},
   "outputs": [
    {
     "name": "stdout",
     "output_type": "stream",
     "text": [
      "Lemmatization : swiming ->  swim\n"
     ]
    }
   ],
   "source": [
    "word=\"swiming\"\n",
    "print(\"Lemmatization : \"+word+\" -> \",lemmatizer.lemmatize(word,'v'))"
   ]
  },
  {
   "cell_type": "code",
   "execution_count": 6,
   "metadata": {},
   "outputs": [
    {
     "name": "stdout",
     "output_type": "stream",
     "text": [
      "Lemmatization : educated ->  educate\n"
     ]
    }
   ],
   "source": [
    "word=\"educated\"\n",
    "print(\"Lemmatization : \"+word+\" -> \",lemmatizer.lemmatize(word,'v'))"
   ]
  },
  {
   "cell_type": "code",
   "execution_count": 7,
   "metadata": {},
   "outputs": [
    {
     "name": "stdout",
     "output_type": "stream",
     "text": [
      "Lemmatization : had ->  have\n"
     ]
    }
   ],
   "source": [
    "word=\"had\"\n",
    "print(\"Lemmatization : \"+word+\" -> \",lemmatizer.lemmatize(word,'v'))"
   ]
  },
  {
   "cell_type": "markdown",
   "metadata": {},
   "source": [
    "## Lematize the adjective with arguments"
   ]
  },
  {
   "cell_type": "code",
   "execution_count": 8,
   "metadata": {},
   "outputs": [
    {
     "name": "stdout",
     "output_type": "stream",
     "text": [
      "Lemmatization : better ->  good\n"
     ]
    }
   ],
   "source": [
    "# good -> better -> best\n",
    "word=\"better\"\n",
    "print(\"Lemmatization : \"+word+\" -> \",lemmatizer.lemmatize(word,'a'))"
   ]
  },
  {
   "cell_type": "code",
   "execution_count": null,
   "metadata": {},
   "outputs": [],
   "source": []
  },
  {
   "cell_type": "code",
   "execution_count": 9,
   "metadata": {},
   "outputs": [
    {
     "name": "stdout",
     "output_type": "stream",
     "text": [
      "Lemmatization : worst ->  bad\n"
     ]
    }
   ],
   "source": [
    "word=\"worst\"\n",
    "print(\"Lemmatization : \"+word+\" -> \",lemmatizer.lemmatize(word,'a'))"
   ]
  },
  {
   "cell_type": "code",
   "execution_count": 10,
   "metadata": {
    "scrolled": true
   },
   "outputs": [
    {
     "name": "stdout",
     "output_type": "stream",
     "text": [
      "Lemmatization : taller ->  tall\n"
     ]
    }
   ],
   "source": [
    "# tall -> taller -> tallest\n",
    "word=\"taller\"\n",
    "print(\"Lemmatization : \"+word+\" -> \",lemmatizer.lemmatize(word,'a'))"
   ]
  },
  {
   "cell_type": "code",
   "execution_count": 12,
   "metadata": {},
   "outputs": [
    {
     "name": "stdout",
     "output_type": "stream",
     "text": [
      "Lemmatization : beautiful ->  beautiful\n"
     ]
    }
   ],
   "source": [
    "word=\"beautiful\"\n",
    "print(\"Lemmatization : \"+word+\" -> \",lemmatizer.lemmatize(word,'a'))"
   ]
  },
  {
   "cell_type": "code",
   "execution_count": 13,
   "metadata": {},
   "outputs": [
    {
     "name": "stdout",
     "output_type": "stream",
     "text": [
      "Lemmatization : beauty ->  beauty\n"
     ]
    }
   ],
   "source": [
    "word=\"beauty\"\n",
    "print(\"Lemmatization : \"+word+\" -> \",lemmatizer.lemmatize(word,'a'))"
   ]
  },
  {
   "cell_type": "code",
   "execution_count": 14,
   "metadata": {},
   "outputs": [
    {
     "name": "stdout",
     "output_type": "stream",
     "text": [
      "Lemmatization: happier -> happy\n",
      "Lemmatization: happiest -> happy\n",
      "Lemmatization: stronger -> strong\n",
      "Lemmatization: strongest -> strong\n",
      "Lemmatization: weaker -> weak\n"
     ]
    }
   ],
   "source": [
    "from nltk.stem import WordNetLemmatizer\n",
    "lemmatizer = WordNetLemmatizer()\n",
    "\n",
    "# Examples\n",
    "words = [\"happier\", \"happiest\", \"stronger\", \"strongest\", \"weaker\"]\n",
    "for word in words:\n",
    "    print(f\"Lemmatization: {word} -> {lemmatizer.lemmatize(word, 'a')}\")\n"
   ]
  },
  {
   "cell_type": "code",
   "execution_count": 15,
   "metadata": {},
   "outputs": [
    {
     "name": "stdout",
     "output_type": "stream",
     "text": [
      "Lemmatization: worse -> bad\n",
      "Lemmatization: worst -> bad\n",
      "Lemmatization: lesser -> less\n",
      "Lemmatization: least -> least\n"
     ]
    }
   ],
   "source": [
    "# Examples\n",
    "words = [\"worse\", \"worst\", \"lesser\", \"least\"]\n",
    "for word in words:\n",
    "    print(f\"Lemmatization: {word} -> {lemmatizer.lemmatize(word, 'a')}\")"
   ]
  },
  {
   "cell_type": "markdown",
   "metadata": {},
   "source": [
    "### Non-Adjectives with Different POS Tags"
   ]
  },
  {
   "cell_type": "code",
   "execution_count": 16,
   "metadata": {},
   "outputs": [
    {
     "name": "stdout",
     "output_type": "stream",
     "text": [
      "Lemmatization (noun): running -> running\n",
      "Lemmatization (noun): children -> child\n",
      "Lemmatization (noun): feet -> foot\n",
      "Lemmatization (verb): running -> run\n",
      "Lemmatization (verb): swimming -> swim\n",
      "Lemmatization (verb): flies -> fly\n"
     ]
    }
   ],
   "source": [
    "# Noun examples\n",
    "words = [\"running\", \"children\", \"feet\"]\n",
    "for word in words:\n",
    "    print(f\"Lemmatization (noun): {word} -> {lemmatizer.lemmatize(word, 'n')}\")\n",
    "\n",
    "# Verb examples\n",
    "words = [\"running\", \"swimming\", \"flies\"]\n",
    "for word in words:\n",
    "    print(f\"Lemmatization (verb): {word} -> {lemmatizer.lemmatize(word, 'v')}\")"
   ]
  },
  {
   "cell_type": "code",
   "execution_count": null,
   "metadata": {},
   "outputs": [],
   "source": []
  }
 ],
 "metadata": {
  "kernelspec": {
   "display_name": "Python 3 (ipykernel)",
   "language": "python",
   "name": "python3"
  },
  "language_info": {
   "codemirror_mode": {
    "name": "ipython",
    "version": 3
   },
   "file_extension": ".py",
   "mimetype": "text/x-python",
   "name": "python",
   "nbconvert_exporter": "python",
   "pygments_lexer": "ipython3",
   "version": "3.11.8"
  }
 },
 "nbformat": 4,
 "nbformat_minor": 4
}
