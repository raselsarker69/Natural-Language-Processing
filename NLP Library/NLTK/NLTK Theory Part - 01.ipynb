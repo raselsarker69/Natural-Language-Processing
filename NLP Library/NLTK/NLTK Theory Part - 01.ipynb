{
 "cells": [
  {
   "cell_type": "markdown",
   "id": "6b1c35f3-9477-428c-90fb-be298a8b5166",
   "metadata": {},
   "source": []
  },
  {
   "cell_type": "markdown",
   "id": "78fa8a12-6590-4975-a609-d4392ba8a01c",
   "metadata": {},
   "source": [
    "<div style=\"background-color: #f9f9fc; color: #333366; border-radius: 12px; margin: 20px auto; padding: 20px; border: 2px solid #ff4c4c; max-width: 1000px; font-family: Arial, sans-serif; line-height: 1.6;\">\n",
    "  <h2 style=\"text-align: center; color: #333366;\">NLTK (Natural Language Toolkit)</h2>\n",
    "\n",
    "---\n",
    "\n",
    "```\n",
    "More suitable for academic and research purposes.\n",
    "Supports text processing, tokenization, stemming, lemmatization, parsing, and more.\n",
    "\n",
    "🔹1. What is NLTK?\n",
    "NLTK (Natural Language Toolkit) হলো পাইথনের একটি জনপ্রিয় লাইব্রেরি, যা প্রাকৃতিক ভাষা প্রক্রিয়াকরণ (NLP) সংক্রান্ত কাজ সহজ করে তোলে। এটি text processing, tokenization, stemming, lemmatization, parsing, and more মতো কাজ করতে সাহায্য করে।\n",
    "\n",
    "🔹2. What is NLTK and its requirements?\n",
    "NLTK হল একটি ওপেন-সোর্স পাইথন লাইব্রেরি, যা NLP সম্পর্কিত গবেষণা এবং প্রকল্পের জন্য ব্যবহার করা হয়। এটি ভাষাগত ডেটা বিশ্লেষণ, টেক্সট মাইনিং, মেশিন লার্নিং, টপিক মডেলিং, মেশিন ট্রান্সলেশন, চ্যাটবট তৈরি এবং ভাষা মডেল তৈরি করার জন্য ব্যবহৃত হয়।\n",
    "\n",
    "🔹3. NLTK-এর প্রধান বৈশিষ্ট্যসমূহ:\n",
    "সহজবোধ্য ও শক্তিশালী টুলকিট\n",
    "বিভিন্ন ভাষার জন্য সমর্থন\n",
    "প্রচুর সংখ্যক কর্পাস (ডেটাসেট) ও রিসোর্স সংযুক্ত\n",
    "NLP গবেষণার জন্য জনপ্রিয়"
   ]
  },
  {
   "cell_type": "markdown",
   "id": "e35785bd-635a-4f34-8a3d-30c9e2f3eaca",
   "metadata": {},
   "source": [
    "## NLTK installations"
   ]
  },
  {
   "cell_type": "code",
   "execution_count": null,
   "id": "af4e6001-c3b4-4531-a145-80c970bd4cf5",
   "metadata": {},
   "outputs": [],
   "source": [
    "!pip install nltk"
   ]
  },
  {
   "cell_type": "markdown",
   "id": "efac984d-8fc9-410c-9540-bcf1654fa054",
   "metadata": {},
   "source": [
    "### Tokenization\n",
    "- 🔹 Word-based tokenization:\n",
    "- 🔹 Sentence-based tokenization:"
   ]
  },
  {
   "cell_type": "code",
   "execution_count": null,
   "id": "daadac8f-4d8e-4252-9a0e-d8bf1f4a5bc6",
   "metadata": {},
   "outputs": [],
   "source": []
  },
  {
   "cell_type": "code",
   "execution_count": null,
   "id": "6cd91eb7-1cac-43b2-a740-c275b815eec3",
   "metadata": {},
   "outputs": [],
   "source": []
  },
  {
   "cell_type": "markdown",
   "id": "aeda3010-1a87-4acd-a31f-00de72c217f6",
   "metadata": {},
   "source": [
    "### Stopwords Removal"
   ]
  },
  {
   "cell_type": "code",
   "execution_count": null,
   "id": "bbfff87e-8c20-4c51-93d9-a964da066165",
   "metadata": {},
   "outputs": [],
   "source": []
  },
  {
   "cell_type": "markdown",
   "id": "4fb11c70-c3e1-4561-9658-f62a103fab16",
   "metadata": {},
   "source": [
    "### Stemming"
   ]
  },
  {
   "cell_type": "code",
   "execution_count": null,
   "id": "5e33b5a6-2fd9-4a59-9032-9e72ed16edbd",
   "metadata": {},
   "outputs": [],
   "source": []
  },
  {
   "cell_type": "markdown",
   "id": "e2862bad-9621-4064-a20b-b2513509ab52",
   "metadata": {},
   "source": [
    "### Lemmatization"
   ]
  },
  {
   "cell_type": "code",
   "execution_count": null,
   "id": "c3c03d96-7d0b-4718-8e20-cd2e782adb67",
   "metadata": {},
   "outputs": [],
   "source": []
  },
  {
   "cell_type": "markdown",
   "id": "b083e65f-5bfd-4c2e-ab95-fae714455e08",
   "metadata": {},
   "source": [
    "### POS tagging"
   ]
  },
  {
   "cell_type": "code",
   "execution_count": null,
   "id": "65dbdadd-5fc3-4340-b47b-16b8f19ebbf1",
   "metadata": {},
   "outputs": [],
   "source": []
  },
  {
   "cell_type": "markdown",
   "id": "dfbcd069-cbdc-4c45-8b9d-bcc8b31f2877",
   "metadata": {},
   "source": [
    "### Named Entity Recognition - NER"
   ]
  },
  {
   "cell_type": "code",
   "execution_count": null,
   "id": "b15f0784-e549-4fa3-a8c6-35d2cca7cbd6",
   "metadata": {},
   "outputs": [],
   "source": []
  },
  {
   "cell_type": "markdown",
   "id": "2e1e6eec-c7ac-4036-b3fa-d981d517749a",
   "metadata": {},
   "source": [
    "### Word Frequency Analysis"
   ]
  },
  {
   "cell_type": "code",
   "execution_count": null,
   "id": "50ea0a74-22b0-4c49-a4f7-1fc2749a9b1b",
   "metadata": {},
   "outputs": [],
   "source": []
  },
  {
   "cell_type": "markdown",
   "id": "9a5188f9-659f-4ab1-949e-5d4e92a3e7a1",
   "metadata": {},
   "source": [
    "### Synonyms & Antonyms"
   ]
  },
  {
   "cell_type": "code",
   "execution_count": null,
   "id": "bcd9eb2d-bf58-498b-a35d-d4b8ad93884a",
   "metadata": {},
   "outputs": [],
   "source": []
  }
 ],
 "metadata": {
  "kernelspec": {
   "display_name": "Python 3 (ipykernel)",
   "language": "python",
   "name": "python3"
  },
  "language_info": {
   "codemirror_mode": {
    "name": "ipython",
    "version": 3
   },
   "file_extension": ".py",
   "mimetype": "text/x-python",
   "name": "python",
   "nbconvert_exporter": "python",
   "pygments_lexer": "ipython3",
   "version": "3.11.8"
  }
 },
 "nbformat": 4,
 "nbformat_minor": 5
}
